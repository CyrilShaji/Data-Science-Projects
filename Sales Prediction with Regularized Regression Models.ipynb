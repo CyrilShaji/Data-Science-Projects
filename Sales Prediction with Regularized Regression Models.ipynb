{
 "cells": [
  {
   "cell_type": "markdown",
   "id": "bf5869c1",
   "metadata": {},
   "source": [
    "\n",
    "# <p style=\"padding:10px;background-color:#8B0000;margin:0;color:white;font-family:newtimeroman;font-size:150%;text-align:center;border-radius: 15px 50px;overflow:hidden;font-weight:500\">\"Optimizing Sales Predictions: A Comparative Analysis of Regression Models with Regularization\"</p>"
   ]
  },
  {
   "cell_type": "markdown",
   "id": "ea796703",
   "metadata": {},
   "source": [
    " \n",
    "\n",
    "### <p style=\"padding:10px;background-color:#0f5c59;margin:0;color:white;font-family:newtimeroman;font-size:150%;text-align:center;border-radius: 5px 20px;overflow:hidden;font-weight:500\">Problem Statement</p>\n",
    "\n",
    "\n",
    "#### Problem Statement and Methodology\n",
    "\n",
    "- **Objective**: Develop a series of regression models, including those with regularization techniques like Lasso, Ridge, and Elastic Net, to predict the number of products sold based on investment in various marketing channels.\n",
    "- **Data Description**: The dataset comprises several predictor variables representing marketing spend across channels such as TV, Billboards, Google Ads, Social Media, Influencer Marketing, and Affiliate Marketing. The target variable is the number of products sold.\n",
    "\n",
    "**Methodology:**\n",
    "\n",
    "- Data Preprocessing: Clean and prepare data for analysis, ensuring it is suitable for modeling.\n",
    "- Model Development: Implement multiple regression algorithms including Lasso, Ridge, and Elastic Net to handle potential multicollinearity and overfitting in the dataset.\n",
    "- Model Comparison and Evaluation: Assess the performance of each model using appropriate metrics (e.g., RMSE, R²) to determine which model best predicts sales.\n",
    "- Interpretation and Reporting: Analyze the coefficients of the best-performing models to gain insights into how marketing expenditures influence sales, and report findings."
   ]
  },
  {
   "cell_type": "code",
   "execution_count": 1,
   "id": "209f3bf1",
   "metadata": {},
   "outputs": [],
   "source": [
    "import pandas as pd\n",
    "import numpy as np\n",
    "from sklearn.linear_model import LinearRegression, Lasso, ElasticNet , Ridge\n",
    "from sklearn.model_selection import train_test_split\n",
    "from sklearn.metrics import mean_squared_error\n",
    "\n",
    "\n",
    "import matplotlib.pyplot as plt \n",
    "import seaborn as sns"
   ]
  },
  {
   "cell_type": "code",
   "execution_count": 2,
   "id": "a2ed062d",
   "metadata": {},
   "outputs": [],
   "source": [
    "df=pd.read_excel('dataset.xlsx')"
   ]
  },
  {
   "cell_type": "code",
   "execution_count": 3,
   "id": "e9b9934f",
   "metadata": {},
   "outputs": [
    {
     "data": {
      "text/html": [
       "<div>\n",
       "<style scoped>\n",
       "    .dataframe tbody tr th:only-of-type {\n",
       "        vertical-align: middle;\n",
       "    }\n",
       "\n",
       "    .dataframe tbody tr th {\n",
       "        vertical-align: top;\n",
       "    }\n",
       "\n",
       "    .dataframe thead th {\n",
       "        text-align: right;\n",
       "    }\n",
       "</style>\n",
       "<table border=\"1\" class=\"dataframe\">\n",
       "  <thead>\n",
       "    <tr style=\"text-align: right;\">\n",
       "      <th></th>\n",
       "      <th>TV</th>\n",
       "      <th>Billboards</th>\n",
       "      <th>Google_Ads</th>\n",
       "      <th>Social_Media</th>\n",
       "      <th>Influencer_Marketing</th>\n",
       "      <th>Affiliate_Marketing</th>\n",
       "      <th>Product_Sold</th>\n",
       "    </tr>\n",
       "  </thead>\n",
       "  <tbody>\n",
       "    <tr>\n",
       "      <th>0</th>\n",
       "      <td>281.42</td>\n",
       "      <td>538.80</td>\n",
       "      <td>123.94</td>\n",
       "      <td>349.30</td>\n",
       "      <td>242.77</td>\n",
       "      <td>910.10</td>\n",
       "      <td>7164</td>\n",
       "    </tr>\n",
       "    <tr>\n",
       "      <th>1</th>\n",
       "      <td>702.97</td>\n",
       "      <td>296.53</td>\n",
       "      <td>558.13</td>\n",
       "      <td>180.55</td>\n",
       "      <td>781.06</td>\n",
       "      <td>132.43</td>\n",
       "      <td>5055</td>\n",
       "    </tr>\n",
       "    <tr>\n",
       "      <th>2</th>\n",
       "      <td>313.14</td>\n",
       "      <td>295.94</td>\n",
       "      <td>642.96</td>\n",
       "      <td>505.71</td>\n",
       "      <td>438.91</td>\n",
       "      <td>464.23</td>\n",
       "      <td>6154</td>\n",
       "    </tr>\n",
       "    <tr>\n",
       "      <th>3</th>\n",
       "      <td>898.52</td>\n",
       "      <td>61.27</td>\n",
       "      <td>548.73</td>\n",
       "      <td>240.93</td>\n",
       "      <td>278.96</td>\n",
       "      <td>432.27</td>\n",
       "      <td>5480</td>\n",
       "    </tr>\n",
       "    <tr>\n",
       "      <th>4</th>\n",
       "      <td>766.52</td>\n",
       "      <td>550.72</td>\n",
       "      <td>651.91</td>\n",
       "      <td>666.33</td>\n",
       "      <td>396.33</td>\n",
       "      <td>841.93</td>\n",
       "      <td>9669</td>\n",
       "    </tr>\n",
       "  </tbody>\n",
       "</table>\n",
       "</div>"
      ],
      "text/plain": [
       "       TV  Billboards  Google_Ads  Social_Media  Influencer_Marketing  \\\n",
       "0  281.42      538.80      123.94        349.30                242.77   \n",
       "1  702.97      296.53      558.13        180.55                781.06   \n",
       "2  313.14      295.94      642.96        505.71                438.91   \n",
       "3  898.52       61.27      548.73        240.93                278.96   \n",
       "4  766.52      550.72      651.91        666.33                396.33   \n",
       "\n",
       "   Affiliate_Marketing  Product_Sold  \n",
       "0               910.10          7164  \n",
       "1               132.43          5055  \n",
       "2               464.23          6154  \n",
       "3               432.27          5480  \n",
       "4               841.93          9669  "
      ]
     },
     "execution_count": 3,
     "metadata": {},
     "output_type": "execute_result"
    }
   ],
   "source": [
    "df.head()"
   ]
  },
  {
   "cell_type": "code",
   "execution_count": 4,
   "id": "0e24a770",
   "metadata": {},
   "outputs": [
    {
     "data": {
      "text/plain": [
       "(300, 7)"
      ]
     },
     "execution_count": 4,
     "metadata": {},
     "output_type": "execute_result"
    }
   ],
   "source": [
    "df.shape"
   ]
  },
  {
   "cell_type": "code",
   "execution_count": 5,
   "id": "5ce13f7e",
   "metadata": {},
   "outputs": [
    {
     "data": {
      "text/html": [
       "<div>\n",
       "<style scoped>\n",
       "    .dataframe tbody tr th:only-of-type {\n",
       "        vertical-align: middle;\n",
       "    }\n",
       "\n",
       "    .dataframe tbody tr th {\n",
       "        vertical-align: top;\n",
       "    }\n",
       "\n",
       "    .dataframe thead th {\n",
       "        text-align: right;\n",
       "    }\n",
       "</style>\n",
       "<table border=\"1\" class=\"dataframe\">\n",
       "  <thead>\n",
       "    <tr style=\"text-align: right;\">\n",
       "      <th></th>\n",
       "      <th>TV</th>\n",
       "      <th>Billboards</th>\n",
       "      <th>Google_Ads</th>\n",
       "      <th>Social_Media</th>\n",
       "      <th>Influencer_Marketing</th>\n",
       "      <th>Affiliate_Marketing</th>\n",
       "      <th>Product_Sold</th>\n",
       "    </tr>\n",
       "  </thead>\n",
       "  <tbody>\n",
       "    <tr>\n",
       "      <th>count</th>\n",
       "      <td>300.000000</td>\n",
       "      <td>300.000000</td>\n",
       "      <td>300.000000</td>\n",
       "      <td>300.000000</td>\n",
       "      <td>300.000000</td>\n",
       "      <td>300.000000</td>\n",
       "      <td>300.000000</td>\n",
       "    </tr>\n",
       "    <tr>\n",
       "      <th>mean</th>\n",
       "      <td>517.431000</td>\n",
       "      <td>502.644933</td>\n",
       "      <td>512.444133</td>\n",
       "      <td>489.800100</td>\n",
       "      <td>465.732567</td>\n",
       "      <td>484.430633</td>\n",
       "      <td>7031.523333</td>\n",
       "    </tr>\n",
       "    <tr>\n",
       "      <th>std</th>\n",
       "      <td>288.114792</td>\n",
       "      <td>275.842369</td>\n",
       "      <td>285.422376</td>\n",
       "      <td>273.883915</td>\n",
       "      <td>288.314080</td>\n",
       "      <td>277.955458</td>\n",
       "      <td>1703.614951</td>\n",
       "    </tr>\n",
       "    <tr>\n",
       "      <th>min</th>\n",
       "      <td>1.040000</td>\n",
       "      <td>3.630000</td>\n",
       "      <td>14.860000</td>\n",
       "      <td>11.690000</td>\n",
       "      <td>0.770000</td>\n",
       "      <td>6.740000</td>\n",
       "      <td>2259.000000</td>\n",
       "    </tr>\n",
       "    <tr>\n",
       "      <th>25%</th>\n",
       "      <td>273.090000</td>\n",
       "      <td>277.912500</td>\n",
       "      <td>250.530000</td>\n",
       "      <td>265.612500</td>\n",
       "      <td>214.480000</td>\n",
       "      <td>267.677500</td>\n",
       "      <td>5922.500000</td>\n",
       "    </tr>\n",
       "    <tr>\n",
       "      <th>50%</th>\n",
       "      <td>513.970000</td>\n",
       "      <td>533.020000</td>\n",
       "      <td>528.965000</td>\n",
       "      <td>486.385000</td>\n",
       "      <td>480.355000</td>\n",
       "      <td>451.315000</td>\n",
       "      <td>7051.000000</td>\n",
       "    </tr>\n",
       "    <tr>\n",
       "      <th>75%</th>\n",
       "      <td>774.275000</td>\n",
       "      <td>745.005000</td>\n",
       "      <td>763.345000</td>\n",
       "      <td>695.117500</td>\n",
       "      <td>703.092500</td>\n",
       "      <td>721.065000</td>\n",
       "      <td>8278.000000</td>\n",
       "    </tr>\n",
       "    <tr>\n",
       "      <th>max</th>\n",
       "      <td>998.100000</td>\n",
       "      <td>995.320000</td>\n",
       "      <td>999.230000</td>\n",
       "      <td>996.160000</td>\n",
       "      <td>999.830000</td>\n",
       "      <td>987.580000</td>\n",
       "      <td>12227.000000</td>\n",
       "    </tr>\n",
       "  </tbody>\n",
       "</table>\n",
       "</div>"
      ],
      "text/plain": [
       "               TV  Billboards  Google_Ads  Social_Media  Influencer_Marketing  \\\n",
       "count  300.000000  300.000000  300.000000    300.000000            300.000000   \n",
       "mean   517.431000  502.644933  512.444133    489.800100            465.732567   \n",
       "std    288.114792  275.842369  285.422376    273.883915            288.314080   \n",
       "min      1.040000    3.630000   14.860000     11.690000              0.770000   \n",
       "25%    273.090000  277.912500  250.530000    265.612500            214.480000   \n",
       "50%    513.970000  533.020000  528.965000    486.385000            480.355000   \n",
       "75%    774.275000  745.005000  763.345000    695.117500            703.092500   \n",
       "max    998.100000  995.320000  999.230000    996.160000            999.830000   \n",
       "\n",
       "       Affiliate_Marketing  Product_Sold  \n",
       "count           300.000000    300.000000  \n",
       "mean            484.430633   7031.523333  \n",
       "std             277.955458   1703.614951  \n",
       "min               6.740000   2259.000000  \n",
       "25%             267.677500   5922.500000  \n",
       "50%             451.315000   7051.000000  \n",
       "75%             721.065000   8278.000000  \n",
       "max             987.580000  12227.000000  "
      ]
     },
     "execution_count": 5,
     "metadata": {},
     "output_type": "execute_result"
    }
   ],
   "source": [
    "df.describe()"
   ]
  },
  {
   "cell_type": "code",
   "execution_count": 6,
   "id": "1a0f3a95",
   "metadata": {},
   "outputs": [],
   "source": [
    "df_box=df.iloc[:,:-1]"
   ]
  },
  {
   "cell_type": "code",
   "execution_count": 7,
   "id": "37bb1017",
   "metadata": {},
   "outputs": [
    {
     "data": {
      "text/html": [
       "<div>\n",
       "<style scoped>\n",
       "    .dataframe tbody tr th:only-of-type {\n",
       "        vertical-align: middle;\n",
       "    }\n",
       "\n",
       "    .dataframe tbody tr th {\n",
       "        vertical-align: top;\n",
       "    }\n",
       "\n",
       "    .dataframe thead th {\n",
       "        text-align: right;\n",
       "    }\n",
       "</style>\n",
       "<table border=\"1\" class=\"dataframe\">\n",
       "  <thead>\n",
       "    <tr style=\"text-align: right;\">\n",
       "      <th></th>\n",
       "      <th>TV</th>\n",
       "      <th>Billboards</th>\n",
       "      <th>Google_Ads</th>\n",
       "      <th>Social_Media</th>\n",
       "      <th>Influencer_Marketing</th>\n",
       "      <th>Affiliate_Marketing</th>\n",
       "    </tr>\n",
       "  </thead>\n",
       "  <tbody>\n",
       "    <tr>\n",
       "      <th>0</th>\n",
       "      <td>281.42</td>\n",
       "      <td>538.80</td>\n",
       "      <td>123.94</td>\n",
       "      <td>349.30</td>\n",
       "      <td>242.77</td>\n",
       "      <td>910.10</td>\n",
       "    </tr>\n",
       "    <tr>\n",
       "      <th>1</th>\n",
       "      <td>702.97</td>\n",
       "      <td>296.53</td>\n",
       "      <td>558.13</td>\n",
       "      <td>180.55</td>\n",
       "      <td>781.06</td>\n",
       "      <td>132.43</td>\n",
       "    </tr>\n",
       "    <tr>\n",
       "      <th>2</th>\n",
       "      <td>313.14</td>\n",
       "      <td>295.94</td>\n",
       "      <td>642.96</td>\n",
       "      <td>505.71</td>\n",
       "      <td>438.91</td>\n",
       "      <td>464.23</td>\n",
       "    </tr>\n",
       "    <tr>\n",
       "      <th>3</th>\n",
       "      <td>898.52</td>\n",
       "      <td>61.27</td>\n",
       "      <td>548.73</td>\n",
       "      <td>240.93</td>\n",
       "      <td>278.96</td>\n",
       "      <td>432.27</td>\n",
       "    </tr>\n",
       "    <tr>\n",
       "      <th>4</th>\n",
       "      <td>766.52</td>\n",
       "      <td>550.72</td>\n",
       "      <td>651.91</td>\n",
       "      <td>666.33</td>\n",
       "      <td>396.33</td>\n",
       "      <td>841.93</td>\n",
       "    </tr>\n",
       "    <tr>\n",
       "      <th>5</th>\n",
       "      <td>507.13</td>\n",
       "      <td>612.27</td>\n",
       "      <td>230.67</td>\n",
       "      <td>142.96</td>\n",
       "      <td>171.79</td>\n",
       "      <td>965.77</td>\n",
       "    </tr>\n",
       "    <tr>\n",
       "      <th>6</th>\n",
       "      <td>486.64</td>\n",
       "      <td>555.02</td>\n",
       "      <td>203.26</td>\n",
       "      <td>271.62</td>\n",
       "      <td>70.04</td>\n",
       "      <td>366.25</td>\n",
       "    </tr>\n",
       "    <tr>\n",
       "      <th>7</th>\n",
       "      <td>762.09</td>\n",
       "      <td>184.57</td>\n",
       "      <td>176.61</td>\n",
       "      <td>97.85</td>\n",
       "      <td>116.67</td>\n",
       "      <td>251.74</td>\n",
       "    </tr>\n",
       "    <tr>\n",
       "      <th>8</th>\n",
       "      <td>638.60</td>\n",
       "      <td>778.31</td>\n",
       "      <td>796.32</td>\n",
       "      <td>759.04</td>\n",
       "      <td>857.13</td>\n",
       "      <td>515.16</td>\n",
       "    </tr>\n",
       "    <tr>\n",
       "      <th>9</th>\n",
       "      <td>591.48</td>\n",
       "      <td>542.51</td>\n",
       "      <td>400.23</td>\n",
       "      <td>329.15</td>\n",
       "      <td>577.38</td>\n",
       "      <td>931.65</td>\n",
       "    </tr>\n",
       "  </tbody>\n",
       "</table>\n",
       "</div>"
      ],
      "text/plain": [
       "       TV  Billboards  Google_Ads  Social_Media  Influencer_Marketing  \\\n",
       "0  281.42      538.80      123.94        349.30                242.77   \n",
       "1  702.97      296.53      558.13        180.55                781.06   \n",
       "2  313.14      295.94      642.96        505.71                438.91   \n",
       "3  898.52       61.27      548.73        240.93                278.96   \n",
       "4  766.52      550.72      651.91        666.33                396.33   \n",
       "5  507.13      612.27      230.67        142.96                171.79   \n",
       "6  486.64      555.02      203.26        271.62                 70.04   \n",
       "7  762.09      184.57      176.61         97.85                116.67   \n",
       "8  638.60      778.31      796.32        759.04                857.13   \n",
       "9  591.48      542.51      400.23        329.15                577.38   \n",
       "\n",
       "   Affiliate_Marketing  \n",
       "0               910.10  \n",
       "1               132.43  \n",
       "2               464.23  \n",
       "3               432.27  \n",
       "4               841.93  \n",
       "5               965.77  \n",
       "6               366.25  \n",
       "7               251.74  \n",
       "8               515.16  \n",
       "9               931.65  "
      ]
     },
     "execution_count": 7,
     "metadata": {},
     "output_type": "execute_result"
    }
   ],
   "source": [
    "df_box.head(10)"
   ]
  },
  {
   "cell_type": "markdown",
   "id": "98ceb3c9",
   "metadata": {},
   "source": [
    "\n",
    "### <p style=\"padding:10px;background-color:#0f5c59;margin:0;color:white;font-family:newtimeroman;font-size:150%;text-align:center;border-radius: 5px 20px;overflow:hidden;font-weight:500\">Visulaization</p>"
   ]
  },
  {
   "cell_type": "code",
   "execution_count": 8,
   "id": "4fe0a183",
   "metadata": {},
   "outputs": [
    {
     "data": {
      "image/png": "[encoded data removed]",
      "text/plain": [
       "<Figure size 1008x576 with 1 Axes>"
      ]
     },
     "metadata": {
      "needs_background": "light"
     },
     "output_type": "display_data"
    }
   ],
   "source": [
    "plt.figure(figsize=(14, 8))\n",
    "\n",
    "# Creating boxplots\n",
    "sns.boxplot(data=df_box)\n",
    "\n",
    "# Setting the title of the plot with increased font size\n",
    "plt.title('Boxplot for Marketing Channels', fontsize=16)\n",
    "\n",
    "# Making the X and Y axis labels bold and increasing font size\n",
    "# plt.xlabel('Marketing Channels', fontsize=14, fontweight='bold')\n",
    "# plt.ylabel('Expenditure ($)', fontsize=14, fontweight='bold')\n",
    "\n",
    "# Increasing the font size of the axis tick values\n",
    "plt.xticks(fontsize=11, fontweight='bold')\n",
    "plt.yticks(fontsize=12, fontweight='bold')\n",
    "\n",
    "# Displaying the plot\n",
    "plt.show()\n"
   ]
  },
  {
   "cell_type": "markdown",
   "id": "17955d14",
   "metadata": {},
   "source": [
    "\n",
    "### <p style=\"padding:10px;background-color:#0f5c59;margin:0;color:white;font-family:newtimeroman;font-size:150%;text-align:center;border-radius: 5px 20px;overflow:hidden;font-weight:500\">OLS Linear Regression</p>"
   ]
  },
  {
   "cell_type": "code",
   "execution_count": 9,
   "id": "62ca1458",
   "metadata": {},
   "outputs": [],
   "source": [
    "X = df.drop('Product_Sold', axis=1)  # predictors\n",
    "y = df['Product_Sold']                # target variable\n"
   ]
  },
  {
   "cell_type": "code",
   "execution_count": 10,
   "id": "053e955c",
   "metadata": {},
   "outputs": [],
   "source": [
    "\n",
    "# Performing train test split\n",
    "X_train, X_test, y_train, y_test = train_test_split(X, y, test_size=0.2, random_state=42)\n",
    "\n"
   ]
  },
  {
   "cell_type": "code",
   "execution_count": 11,
   "id": "098a22c2",
   "metadata": {},
   "outputs": [
    {
     "data": {
      "text/plain": [
       "(array([2.00182317, 2.9985323 , 1.49807126, 2.49979705, 1.19965944,\n",
       "        3.99662486]),\n",
       " 1.3474765058335834)"
      ]
     },
     "execution_count": 11,
     "metadata": {},
     "output_type": "execute_result"
    }
   ],
   "source": [
    "# Creating a linear regression model\n",
    "model = LinearRegression()\n",
    "\n",
    "# Fitting the model to the training data\n",
    "model.fit(X_train, y_train)\n",
    "\n",
    "# The model is now trained. Let's print the coefficients as an example.\n",
    "model.coef_, model.intercept_"
   ]
  },
  {
   "cell_type": "code",
   "execution_count": 12,
   "id": "979d1242",
   "metadata": {},
   "outputs": [],
   "source": [
    "# Making predictions on train\n",
    "y_pred_train = model.predict(X_train)"
   ]
  },
  {
   "cell_type": "code",
   "execution_count": 13,
   "id": "a08fa312",
   "metadata": {},
   "outputs": [],
   "source": [
    "# Making predictions on test\n",
    "y_pred_test = model.predict(X_test)"
   ]
  },
  {
   "cell_type": "code",
   "execution_count": 14,
   "id": "c96b8f4a",
   "metadata": {},
   "outputs": [
    {
     "data": {
      "text/plain": [
       "0.9999606679323896"
      ]
     },
     "execution_count": 14,
     "metadata": {},
     "output_type": "execute_result"
    }
   ],
   "source": [
    "from sklearn.metrics import r2_score \n",
    "r2_score(y_train, y_pred_train)"
   ]
  },
  {
   "cell_type": "code",
   "execution_count": 15,
   "id": "00850ba9",
   "metadata": {},
   "outputs": [
    {
     "data": {
      "text/plain": [
       "0.9999736866138691"
      ]
     },
     "execution_count": 15,
     "metadata": {},
     "output_type": "execute_result"
    }
   ],
   "source": [
    "from sklearn.metrics import r2_score \n",
    "r2_score(y_test, y_pred_test)"
   ]
  },
  {
   "cell_type": "code",
   "execution_count": 19,
   "id": "d085207c",
   "metadata": {},
   "outputs": [
    {
     "data": {
      "text/plain": [
       "0.9999712501892274"
      ]
     },
     "execution_count": 19,
     "metadata": {},
     "output_type": "execute_result"
    }
   ],
   "source": [
    "# Calculate R-squared\n",
    "r_squared = r2_score(y_test, y_pred_test)\n",
    "\n",
    "\n",
    "n = len(y_test)  # Number of observations\n",
    "p = 5  # Number of predictors\n",
    "\n",
    "# Adjusted R-squared formula\n",
    "adjusted_r_squared = 1 - (1 - r_squared) * (n - 1) / (n - p - 1)\n",
    "\n",
    "adjusted_r_squared"
   ]
  },
  {
   "cell_type": "code",
   "execution_count": 16,
   "id": "cf850473",
   "metadata": {},
   "outputs": [
    {
     "name": "stdout",
     "output_type": "stream",
     "text": [
      " MSE: 75.36591771291954 \n",
      " RMSE: 8.681354601265838\n"
     ]
    }
   ],
   "source": [
    "import sklearn.metrics  \n",
    "import math\n",
    "mse = sklearn.metrics.mean_squared_error(y_test, y_pred_test)  \n",
    "rmse=math.sqrt(mse)\n",
    "\n",
    "print(' MSE:', mse ,'\\n','RMSE:', rmse)"
   ]
  },
  {
   "cell_type": "code",
   "execution_count": 41,
   "id": "0f8d7c96",
   "metadata": {},
   "outputs": [
    {
     "name": "stdout",
     "output_type": "stream",
     "text": [
      "[0.99994857 0.99997121 0.99995535 0.99994838 0.99997497]\n",
      "cv_scores mean:0.9999596955535814\n"
     ]
    }
   ],
   "source": [
    "from sklearn.model_selection import cross_val_score\n",
    "\n",
    "# Define the model\n",
    "model = LinearRegression()\n",
    "\n",
    "# Perform 5-fold cross-validation\n",
    "cv_scores = cross_val_score(model, X, y, cv=5)\n",
    "\n",
    "# Print each cv score (accuracy) and average them\n",
    "print(cv_scores)\n",
    "print(\"cv_scores mean:{}\".format(np.mean(cv_scores)))\n"
   ]
  },
  {
   "cell_type": "code",
   "execution_count": 21,
   "id": "eb5ecf7a",
   "metadata": {},
   "outputs": [
    {
     "name": "stdout",
     "output_type": "stream",
     "text": [
      "MSE: 75.36591771291954\n",
      "RMSE: 8.681354601265838\n",
      "MAE: 7.085373922626074\n",
      "Huber Loss: 6.605801929840878\n"
     ]
    }
   ],
   "source": [
    "from sklearn.metrics import mean_squared_error, mean_absolute_error\n",
    "from sklearn.linear_model import HuberRegressor\n",
    "\n",
    "# Calculate MSE\n",
    "mse = mean_squared_error(y_test, y_pred_test)\n",
    "# Calculate RMSE\n",
    "rmse = np.sqrt(mse)\n",
    "\n",
    "# Calculate MAE\n",
    "mae = mean_absolute_error(y_test, y_pred_test)\n",
    "\n",
    "#Calculating Huber Loss\n",
    "huber_model = HuberRegressor(alpha=0.0001)\n",
    "huber_model.fit(X_train, y_train) \n",
    "\n",
    "delta = 1.0\n",
    "huber_loss = np.mean(np.where(np.abs(y_test - y_pred_test) < delta, \n",
    "                              0.5 * ((y_test - y_pred_test) ** 2),\n",
    "                              delta * (np.abs(y_test - y_pred_test) - 0.5 * delta)))\n",
    "\n",
    "print(f\"MSE: {mse}\")\n",
    "print(f\"RMSE: {rmse}\")\n",
    "print(f\"MAE: {mae}\")\n",
    "print(f\"Huber Loss: {huber_loss}\")"
   ]
  },
  {
   "cell_type": "code",
   "execution_count": 23,
   "id": "e2af5769",
   "metadata": {},
   "outputs": [
    {
     "name": "stderr",
     "output_type": "stream",
     "text": [
      "C:\\Users\\cyril\\anaconda3\\lib\\site-packages\\seaborn\\distributions.py:2619: FutureWarning: `distplot` is a deprecated function and will be removed in a future version. Please adapt your code to use either `displot` (a figure-level function with similar flexibility) or `histplot` (an axes-level function for histograms).\n",
      "  warnings.warn(msg, FutureWarning)\n"
     ]
    },
    {
     "data": {
      "text/plain": [
       "Text(0.5, 0, 'Errors')"
      ]
     },
     "execution_count": 23,
     "metadata": {},
     "output_type": "execute_result"
    },
    {
     "data": {
      "image/png": "[encoded data removed]",
      "text/plain": [
       "<Figure size 432x288 with 1 Axes>"
      ]
     },
     "metadata": {
      "needs_background": "light"
     },
     "output_type": "display_data"
    }
   ],
   "source": [
    "# Plot the histogram of the error terms\n",
    "fig = plt.figure()\n",
    "sns.distplot((y_train - y_pred_train), bins = 20)\n",
    "fig.suptitle('Error Terms', fontsize = 20)                  # Plot heading \n",
    "plt.xlabel('Errors', fontsize = 18)                         # X-label"
   ]
  },
  {
   "cell_type": "code",
   "execution_count": 54,
   "id": "fda86579",
   "metadata": {},
   "outputs": [
    {
     "name": "stderr",
     "output_type": "stream",
     "text": [
      "C:\\Users\\cyril\\anaconda3\\lib\\site-packages\\seaborn\\distributions.py:2619: FutureWarning: `distplot` is a deprecated function and will be removed in a future version. Please adapt your code to use either `displot` (a figure-level function with similar flexibility) or `histplot` (an axes-level function for histograms).\n",
      "  warnings.warn(msg, FutureWarning)\n"
     ]
    },
    {
     "data": {
      "text/plain": [
       "Text(0.5, 0, 'Errors')"
      ]
     },
     "execution_count": 54,
     "metadata": {},
     "output_type": "execute_result"
    },
    {
     "data": {
      "image/png": "[encoded data removed]",
      "text/plain": [
       "<Figure size 432x288 with 1 Axes>"
      ]
     },
     "metadata": {
      "needs_background": "light"
     },
     "output_type": "display_data"
    }
   ],
   "source": [
    "# Plot the histogram of the error terms\n",
    "fig = plt.figure()\n",
    "sns.distplot((y_test - y_pred_test), bins = 20)\n",
    "fig.suptitle('Error Terms', fontsize = 20)                  # Plot heading \n",
    "plt.xlabel('Errors', fontsize = 18)     "
   ]
  },
  {
   "cell_type": "code",
   "execution_count": 24,
   "id": "c7744784",
   "metadata": {},
   "outputs": [
    {
     "data": {
      "text/html": [
       "<div>\n",
       "<style scoped>\n",
       "    .dataframe tbody tr th:only-of-type {\n",
       "        vertical-align: middle;\n",
       "    }\n",
       "\n",
       "    .dataframe tbody tr th {\n",
       "        vertical-align: top;\n",
       "    }\n",
       "\n",
       "    .dataframe thead th {\n",
       "        text-align: right;\n",
       "    }\n",
       "</style>\n",
       "<table border=\"1\" class=\"dataframe\">\n",
       "  <thead>\n",
       "    <tr style=\"text-align: right;\">\n",
       "      <th></th>\n",
       "      <th>feature</th>\n",
       "      <th>VIF</th>\n",
       "    </tr>\n",
       "  </thead>\n",
       "  <tbody>\n",
       "    <tr>\n",
       "      <th>0</th>\n",
       "      <td>TV</td>\n",
       "      <td>3.713335</td>\n",
       "    </tr>\n",
       "    <tr>\n",
       "      <th>1</th>\n",
       "      <td>Billboards</td>\n",
       "      <td>3.701376</td>\n",
       "    </tr>\n",
       "    <tr>\n",
       "      <th>2</th>\n",
       "      <td>Google_Ads</td>\n",
       "      <td>3.554091</td>\n",
       "    </tr>\n",
       "    <tr>\n",
       "      <th>3</th>\n",
       "      <td>Social_Media</td>\n",
       "      <td>3.571520</td>\n",
       "    </tr>\n",
       "    <tr>\n",
       "      <th>4</th>\n",
       "      <td>Influencer_Marketing</td>\n",
       "      <td>3.016718</td>\n",
       "    </tr>\n",
       "    <tr>\n",
       "      <th>5</th>\n",
       "      <td>Affiliate_Marketing</td>\n",
       "      <td>3.345264</td>\n",
       "    </tr>\n",
       "  </tbody>\n",
       "</table>\n",
       "</div>"
      ],
      "text/plain": [
       "                feature       VIF\n",
       "0                    TV  3.713335\n",
       "1            Billboards  3.701376\n",
       "2            Google_Ads  3.554091\n",
       "3          Social_Media  3.571520\n",
       "4  Influencer_Marketing  3.016718\n",
       "5   Affiliate_Marketing  3.345264"
      ]
     },
     "execution_count": 24,
     "metadata": {},
     "output_type": "execute_result"
    }
   ],
   "source": [
    "from statsmodels.stats.outliers_influence import variance_inflation_factor\n",
    "\n",
    "# Calculating VIF for each feature (checking multicollinearity)\n",
    "vif_data = pd.DataFrame()\n",
    "vif_data[\"feature\"] = X.columns\n",
    "vif_data[\"VIF\"] = [variance_inflation_factor(X.values, i) for i in range(len(X.columns))]\n",
    "\n",
    "vif_data\n"
   ]
  },
  {
   "cell_type": "markdown",
   "id": "e02effca",
   "metadata": {},
   "source": [
    "\n",
    "### <p style=\"padding:10px;background-color:#0f5c59;margin:0;color:white;font-family:newtimeroman;font-size:150%;text-align:center;border-radius: 5px 20px;overflow:hidden;font-weight:500\">Correlation Analysis</p>"
   ]
  },
  {
   "cell_type": "code",
   "execution_count": 25,
   "id": "034491a9",
   "metadata": {},
   "outputs": [
    {
     "data": {
      "image/png": "[encoded data removed]",
      "text/plain": [
       "<Figure size 720x576 with 2 Axes>"
      ]
     },
     "metadata": {
      "needs_background": "light"
     },
     "output_type": "display_data"
    }
   ],
   "source": [
    "# Creating a correlation matrix\n",
    "corr_matrix = df.corr()\n",
    "\n",
    "# Setting up the matplotlib figure\n",
    "plt.figure(figsize=(10, 8))\n",
    "\n",
    "# Drawing the heatmap with the mask and correct aspect ratio\n",
    "sns.heatmap(corr_matrix, annot=True, fmt=\".2f\", cmap='coolwarm', square=True, cbar_kws={\"shrink\": .5})\n",
    "\n",
    "# Adding a title to the heatmap\n",
    "plt.title('Correlation Matrix Heatmap')\n",
    "\n",
    "# Displaying the heatmap\n",
    "plt.show()\n"
   ]
  },
  {
   "cell_type": "code",
   "execution_count": 26,
   "id": "6060e68e",
   "metadata": {},
   "outputs": [
    {
     "data": {
      "image/png": "[encoded data removed]",
      "text/plain": [
       "<Figure size 720x576 with 2 Axes>"
      ]
     },
     "metadata": {
      "needs_background": "light"
     },
     "output_type": "display_data"
    }
   ],
   "source": [
    "# Creating a correlation matrix with a yellow-orange-brown color palette\n",
    "plt.figure(figsize=(10, 8))\n",
    "\n",
    "# Drawing the heatmap with the new color palette\n",
    "sns.heatmap(corr_matrix, annot=True, fmt=\".2f\", cmap='YlOrBr', square=True, cbar_kws={\"shrink\": .5})\n",
    "\n",
    "# Adding a title to the heatmap\n",
    "plt.title('Correlation Matrix Heatmap')\n",
    "\n",
    "# Displaying the heatmap with the updated color theme\n",
    "plt.show()\n"
   ]
  },
  {
   "cell_type": "markdown",
   "id": "638b8b65",
   "metadata": {},
   "source": [
    " \n",
    "\n",
    "### <p style=\"padding:10px;background-color:#0f5c59;margin:0;color:white;font-family:newtimeroman;font-size:150%;text-align:center;border-radius: 5px 20px;overflow:hidden;font-weight:500\"> Regularization techniques </p>\n",
    "\n",
    "- **Ridge Regression (L2 regularization):** This method adds a penalty equivalent to the square of the magnitude of coefficients to the loss function. It aims to prevent overfitting by shrinking the coefficients, thus reducing model complexity.\n",
    "- **Lasso Regression (L1 regularization):** Lasso stands for Least Absolute Shrinkage and Selection Operator. It introduces a penalty that is equivalent to the absolute value of the magnitude of the coefficients. This approach can lead not only to smaller coefficients but can set some coefficients to zero, effectively performing feature selection.\n",
    "- **Elastic Net Regression:** This technique combines penalties from both Lasso and Ridge. It adds both the L1 and L2 penalties to the loss function. By doing this, it benefits from the properties of both methods: the feature selection ability of Lasso and the ability to model complex data structures like Ridge.\n",
    "\n",
    "\n",
    "*These regularization methods are especially useful in dealing with multicollinearity, preventing overfitting, and when the dataset has more features than observations.*"
   ]
  },
  {
   "cell_type": "code",
   "execution_count": 28,
   "id": "9f6382d9",
   "metadata": {},
   "outputs": [],
   "source": [
    "from sklearn.linear_model import Ridge, Lasso, ElasticNet\n",
    "\n",
    "# Creating Lasso, Ridge, and ElasticNet models\n",
    "lasso_model = Lasso(alpha=1.0)\n",
    "ridge_model = Ridge(alpha=1.0)\n",
    "elastic_net_model = ElasticNet(alpha=1.0, l1_ratio=0.5)\n",
    "\n",
    "\n"
   ]
  },
  {
   "cell_type": "code",
   "execution_count": 29,
   "id": "37789933",
   "metadata": {},
   "outputs": [
    {
     "data": {
      "text/html": [
       "<style>#sk-container-id-1 {color: black;background-color: white;}#sk-container-id-1 pre{padding: 0;}#sk-container-id-1 div.sk-toggleable {background-color: white;}#sk-container-id-1 label.sk-toggleable__label {cursor: pointer;display: block;width: 100%;margin-bottom: 0;padding: 0.3em;box-sizing: border-box;text-align: center;}#sk-container-id-1 label.sk-toggleable__label-arrow:before {content: \"▸\";float: left;margin-right: 0.25em;color: #696969;}#sk-container-id-1 label.sk-toggleable__label-arrow:hover:before {color: black;}#sk-container-id-1 div.sk-estimator:hover label.sk-toggleable__label-arrow:before {color: black;}#sk-container-id-1 div.sk-toggleable__content {max-height: 0;max-width: 0;overflow: hidden;text-align: left;background-color: #f0f8ff;}#sk-container-id-1 div.sk-toggleable__content pre {margin: 0.2em;color: black;border-radius: 0.25em;background-color: #f0f8ff;}#sk-container-id-1 input.sk-toggleable__control:checked~div.sk-toggleable__content {max-height: 200px;max-width: 100%;overflow: auto;}#sk-container-id-1 input.sk-toggleable__control:checked~label.sk-toggleable__label-arrow:before {content: \"▾\";}#sk-container-id-1 div.sk-estimator input.sk-toggleable__control:checked~label.sk-toggleable__label {background-color: #d4ebff;}#sk-container-id-1 div.sk-label input.sk-toggleable__control:checked~label.sk-toggleable__label {background-color: #d4ebff;}#sk-container-id-1 input.sk-hidden--visually {border: 0;clip: rect(1px 1px 1px 1px);clip: rect(1px, 1px, 1px, 1px);height: 1px;margin: -1px;overflow: hidden;padding: 0;position: absolute;width: 1px;}#sk-container-id-1 div.sk-estimator {font-family: monospace;background-color: #f0f8ff;border: 1px dotted black;border-radius: 0.25em;box-sizing: border-box;margin-bottom: 0.5em;}#sk-container-id-1 div.sk-estimator:hover {background-color: #d4ebff;}#sk-container-id-1 div.sk-parallel-item::after {content: \"\";width: 100%;border-bottom: 1px solid gray;flex-grow: 1;}#sk-container-id-1 div.sk-label:hover label.sk-toggleable__label {background-color: #d4ebff;}#sk-container-id-1 div.sk-serial::before {content: \"\";position: absolute;border-left: 1px solid gray;box-sizing: border-box;top: 0;bottom: 0;left: 50%;z-index: 0;}#sk-container-id-1 div.sk-serial {display: flex;flex-direction: column;align-items: center;background-color: white;padding-right: 0.2em;padding-left: 0.2em;position: relative;}#sk-container-id-1 div.sk-item {position: relative;z-index: 1;}#sk-container-id-1 div.sk-parallel {display: flex;align-items: stretch;justify-content: center;background-color: white;position: relative;}#sk-container-id-1 div.sk-item::before, #sk-container-id-1 div.sk-parallel-item::before {content: \"\";position: absolute;border-left: 1px solid gray;box-sizing: border-box;top: 0;bottom: 0;left: 50%;z-index: -1;}#sk-container-id-1 div.sk-parallel-item {display: flex;flex-direction: column;z-index: 1;position: relative;background-color: white;}#sk-container-id-1 div.sk-parallel-item:first-child::after {align-self: flex-end;width: 50%;}#sk-container-id-1 div.sk-parallel-item:last-child::after {align-self: flex-start;width: 50%;}#sk-container-id-1 div.sk-parallel-item:only-child::after {width: 0;}#sk-container-id-1 div.sk-dashed-wrapped {border: 1px dashed gray;margin: 0 0.4em 0.5em 0.4em;box-sizing: border-box;padding-bottom: 0.4em;background-color: white;}#sk-container-id-1 div.sk-label label {font-family: monospace;font-weight: bold;display: inline-block;line-height: 1.2em;}#sk-container-id-1 div.sk-label-container {text-align: center;}#sk-container-id-1 div.sk-container {/* jupyter's `normalize.less` sets `[hidden] { display: none; }` but bootstrap.min.css set `[hidden] { display: none !important; }` so we also need the `!important` here to be able to override the default hidden behavior on the sphinx rendered scikit-learn.org. See: https://github.com/scikit-learn/scikit-learn/issues/21755 */display: inline-block !important;position: relative;}#sk-container-id-1 div.sk-text-repr-fallback {display: none;}</style><div id=\"sk-container-id-1\" class=\"sk-top-container\"><div class=\"sk-text-repr-fallback\"><pre>ElasticNet()</pre><b>In a Jupyter environment, please rerun this cell to show the HTML representation or trust the notebook. <br />On GitHub, the HTML representation is unable to render, please try loading this page with nbviewer.org.</b></div><div class=\"sk-container\" hidden><div class=\"sk-item\"><div class=\"sk-estimator sk-toggleable\"><input class=\"sk-toggleable__control sk-hidden--visually\" id=\"sk-estimator-id-1\" type=\"checkbox\" checked><label for=\"sk-estimator-id-1\" class=\"sk-toggleable__label sk-toggleable__label-arrow\">ElasticNet</label><div class=\"sk-toggleable__content\"><pre>ElasticNet()</pre></div></div></div></div></div>"
      ],
      "text/plain": [
       "ElasticNet()"
      ]
     },
     "execution_count": 29,
     "metadata": {},
     "output_type": "execute_result"
    }
   ],
   "source": [
    "# Fitting the models to the training data\n",
    "lasso_model.fit(X_train, y_train)\n",
    "ridge_model.fit(X_train, y_train)\n",
    "elastic_net_model.fit(X_train, y_train)\n",
    "\n",
    "\n"
   ]
  },
  {
   "cell_type": "code",
   "execution_count": 30,
   "id": "4eccae03",
   "metadata": {},
   "outputs": [],
   "source": [
    "# Extracting the coefficients for each model\n",
    "lasso_coefficients = lasso_model.coef_\n",
    "ridge_coefficients = ridge_model.coef_\n",
    "#elastic_net_coefficients = elastic_net_model.coef"
   ]
  },
  {
   "cell_type": "code",
   "execution_count": 31,
   "id": "4f526732",
   "metadata": {},
   "outputs": [
    {
     "data": {
      "text/plain": [
       "(array([2.00181471, 2.99852236, 1.49805532, 2.49978282, 1.19964456,\n",
       "        3.99660831]),\n",
       " array([2.00182309, 2.99853214, 1.49807116, 2.49979691, 1.19965935,\n",
       "        3.99662462]))"
      ]
     },
     "execution_count": 31,
     "metadata": {},
     "output_type": "execute_result"
    }
   ],
   "source": [
    "lasso_coefficients, ridge_coefficients\n"
   ]
  },
  {
   "cell_type": "markdown",
   "id": "bb6efa36",
   "metadata": {},
   "source": [
    "\n",
    "### <p style=\"padding:10px;background-color:#0f5c59;margin:0;color:white;font-family:newtimeroman;font-size:150%;text-align:center;border-radius: 5px 20px;overflow:hidden;font-weight:500\">Lasso regression (L1)</p>"
   ]
  },
  {
   "cell_type": "code",
   "execution_count": 32,
   "id": "1ef84fbe",
   "metadata": {},
   "outputs": [
    {
     "data": {
      "text/plain": [
       "0.9999606679047178"
      ]
     },
     "execution_count": 32,
     "metadata": {},
     "output_type": "execute_result"
    }
   ],
   "source": [
    "#Lasso\n",
    "\n",
    "# Making predictions on train\n",
    "y_pred_train_lasso = lasso_model.predict(X_train)\n",
    "r2_score(y_train, y_pred_train_lasso)"
   ]
  },
  {
   "cell_type": "code",
   "execution_count": 33,
   "id": "db01a605",
   "metadata": {},
   "outputs": [
    {
     "data": {
      "text/plain": [
       "0.999973673175625"
      ]
     },
     "execution_count": 33,
     "metadata": {},
     "output_type": "execute_result"
    }
   ],
   "source": [
    "# Making predictions on test\n",
    "y_pred_test_lasso = lasso_model.predict(X_test)\n",
    "r2_score(y_test, y_pred_test_lasso)"
   ]
  },
  {
   "cell_type": "code",
   "execution_count": 34,
   "id": "237196c9",
   "metadata": {},
   "outputs": [
    {
     "name": "stdout",
     "output_type": "stream",
     "text": [
      "MSE: 75.40440708075344\n",
      "RMSE: 8.683571101842459\n",
      "MAE: 7.086804840587835\n",
      "Huber Loss: 6.607361449364377\n"
     ]
    }
   ],
   "source": [
    "\n",
    "\n",
    "# Calculate MSE\n",
    "mse = mean_squared_error(y_test, y_pred_test_lasso)\n",
    "# Calculate RMSE\n",
    "rmse = np.sqrt(mse)\n",
    "\n",
    "# Calculate MAE\n",
    "mae = mean_absolute_error(y_test, y_pred_test_lasso)\n",
    "\n",
    "#Calculating Huber Loss\n",
    "huber_model = HuberRegressor(alpha=0.0001)\n",
    "huber_model.fit(X_train, y_train) \n",
    "\n",
    "delta = 1.0\n",
    "huber_loss = np.mean(np.where(np.abs(y_test - y_pred_test_lasso) < delta, \n",
    "                              0.5 * ((y_test - y_pred_test_lasso) ** 2),\n",
    "                              delta * (np.abs(y_test - y_pred_test_lasso) - 0.5 * delta)))\n",
    "\n",
    "print(f\"MSE: {mse}\")\n",
    "print(f\"RMSE: {rmse}\")\n",
    "print(f\"MAE: {mae}\")\n",
    "print(f\"Huber Loss: {huber_loss}\")"
   ]
  },
  {
   "cell_type": "code",
   "execution_count": null,
   "id": "cd4ccd28",
   "metadata": {},
   "outputs": [],
   "source": []
  },
  {
   "cell_type": "code",
   "execution_count": null,
   "id": "b2901cf8",
   "metadata": {},
   "outputs": [],
   "source": []
  },
  {
   "cell_type": "markdown",
   "id": "786bd8a4",
   "metadata": {},
   "source": [
    "\n",
    "### <p style=\"padding:10px;background-color:#0f5c59;margin:0;color:white;font-family:newtimeroman;font-size:150%;text-align:center;border-radius: 5px 20px;overflow:hidden;font-weight:500\">Ridge Regression (L2)</p>"
   ]
  },
  {
   "cell_type": "code",
   "execution_count": 35,
   "id": "0b143f29",
   "metadata": {},
   "outputs": [
    {
     "data": {
      "text/plain": [
       "0.9999606679323864"
      ]
     },
     "execution_count": 35,
     "metadata": {},
     "output_type": "execute_result"
    }
   ],
   "source": [
    "#Ridge\n",
    "\n",
    "# Making predictions on train\n",
    "y_pred_train_ridge = ridge_model.predict(X_train)\n",
    "r2_score(y_train, y_pred_train_ridge)"
   ]
  },
  {
   "cell_type": "code",
   "execution_count": 36,
   "id": "5d0627f2",
   "metadata": {},
   "outputs": [
    {
     "data": {
      "text/plain": [
       "0.9999736864632335"
      ]
     },
     "execution_count": 36,
     "metadata": {},
     "output_type": "execute_result"
    }
   ],
   "source": [
    "# Making predictions on test\n",
    "y_pred_test_ridge = ridge_model.predict(X_test)\n",
    "r2_score(y_test, y_pred_test_ridge)"
   ]
  },
  {
   "cell_type": "code",
   "execution_count": 37,
   "id": "24a070b5",
   "metadata": {},
   "outputs": [
    {
     "name": "stdout",
     "output_type": "stream",
     "text": [
      "MSE: 75.36634915825984\n",
      "RMSE: 8.681379450194527\n",
      "MAE: 7.085391904065992\n",
      "Huber Loss: 6.605820922771134\n"
     ]
    }
   ],
   "source": [
    "\n",
    "\n",
    "# Calculate MSE\n",
    "mse = mean_squared_error(y_test, y_pred_test_ridge)\n",
    "# Calculate RMSE\n",
    "rmse = np.sqrt(mse)\n",
    "\n",
    "# Calculate MAE\n",
    "mae = mean_absolute_error(y_test, y_pred_test_ridge)\n",
    "\n",
    "#Calculating Huber Loss\n",
    "huber_model = HuberRegressor(alpha=0.0001)\n",
    "huber_model.fit(X_train, y_train) \n",
    "\n",
    "delta = 1.0\n",
    "huber_loss = np.mean(np.where(np.abs(y_test - y_pred_test_ridge) < delta, \n",
    "                              0.5 * ((y_test - y_pred_test_ridge) ** 2),\n",
    "                              delta * (np.abs(y_test - y_pred_test_ridge) - 0.5 * delta)))\n",
    "\n",
    "print(f\"MSE: {mse}\")\n",
    "print(f\"RMSE: {rmse}\")\n",
    "print(f\"MAE: {mae}\")\n",
    "print(f\"Huber Loss: {huber_loss}\")"
   ]
  },
  {
   "cell_type": "markdown",
   "id": "751d92e3",
   "metadata": {},
   "source": [
    "\n",
    "### <p style=\"padding:10px;background-color:#0f5c59;margin:0;color:white;font-family:newtimeroman;font-size:150%;text-align:center;border-radius: 5px 20px;overflow:hidden;font-weight:500\">Elastic Net Regression </p>"
   ]
  },
  {
   "cell_type": "code",
   "execution_count": 38,
   "id": "dc7525a4",
   "metadata": {},
   "outputs": [],
   "source": [
    "# Elastic Net Regression: Making predictions and calculating metrics\n",
    "\n",
    "# Making predictions on the train and test sets\n",
    "y_pred_train_elastic = elastic_net_model.predict(X_train)\n",
    "y_pred_test_elastic = elastic_net_model.predict(X_test)\n",
    "\n",
    "# Calculate R-squared for train and test sets\n",
    "r2_score_train_elastic = r2_score(y_train, y_pred_train_elastic)\n",
    "r2_score_test_elastic = r2_score(y_test, y_pred_test_elastic)\n",
    "\n",
    "# Calculate Mean Squared Error (MSE) for the test set\n",
    "mse_elastic = mean_squared_error(y_test, y_pred_test_elastic)\n",
    "\n",
    "# Calculate Root Mean Squared Error (RMSE) for the test set\n",
    "rmse_elastic = np.sqrt(mse_elastic)\n",
    "\n",
    "# Calculate Mean Absolute Error (MAE) for the test set\n",
    "mae_elastic = mean_absolute_error(y_test, y_pred_test_elastic)\n",
    "\n",
    "\n"
   ]
  },
  {
   "cell_type": "code",
   "execution_count": 39,
   "id": "d92ec96f",
   "metadata": {},
   "outputs": [
    {
     "data": {
      "text/plain": [
       "0.9999736610969906"
      ]
     },
     "execution_count": 39,
     "metadata": {},
     "output_type": "execute_result"
    }
   ],
   "source": [
    "r2_score_test_elastic"
   ]
  },
  {
   "cell_type": "code",
   "execution_count": 40,
   "id": "94989611",
   "metadata": {},
   "outputs": [
    {
     "name": "stdout",
     "output_type": "stream",
     "text": [
      "R square test: 0.9999736610969906\n",
      "MSE: 75.43900230006241\n",
      "RMSE: 8.685562866047452\n",
      "MAE: 7.088308736485116\n"
     ]
    }
   ],
   "source": [
    "print(f\"R square test: {r2_score_test_elastic}\")\n",
    "\n",
    "print(f\"MSE: {mse_elastic}\")\n",
    "print(f\"RMSE: {rmse_elastic}\")\n",
    "print(f\"MAE: {mae_elastic}\")\n",
    "#print(f\"Huber Loss: {huber_loss}\")"
   ]
  },
  {
   "cell_type": "code",
   "execution_count": null,
   "id": "da8b33e9",
   "metadata": {},
   "outputs": [],
   "source": []
  },
  {
   "cell_type": "markdown",
   "id": "2be71322",
   "metadata": {},
   "source": [
    "# Cross Validation"
   ]
  },
  {
   "cell_type": "code",
   "execution_count": 46,
   "id": "ef6dd0de",
   "metadata": {},
   "outputs": [
    {
     "name": "stdout",
     "output_type": "stream",
     "text": [
      "Lasso Regression Mean CV Score: 0.9999596955703678\n",
      "Ridge Regression Mean CV Score: 0.99995969555355\n",
      "Elastic Net Regression Mean CV Score: 0.9999596955647725\n"
     ]
    }
   ],
   "source": [
    "from sklearn.linear_model import Lasso, Ridge, ElasticNet\n",
    "\n",
    "# Re-defining Lasso, Ridge, and ElasticNet models\n",
    "lasso_model = Lasso(alpha=1.0)\n",
    "ridge_model = Ridge(alpha=0.01)\n",
    "elastic_net_model = ElasticNet(alpha=0.01, l1_ratio=0.9)\n",
    "\n",
    "# Perform 5-fold cross-validation for each model\n",
    "cv_scores_lasso = cross_val_score(lasso_model, X, y, cv=5)\n",
    "cv_scores_ridge = cross_val_score(ridge_model, X, y, cv=5)\n",
    "cv_scores_elastic_net = cross_val_score(elastic_net_model, X, y, cv=5)\n",
    "\n",
    "# Calculate and print the mean cv score for each model\n",
    "mean_cv_scores_lasso = np.mean(cv_scores_lasso)\n",
    "mean_cv_scores_ridge = np.mean(cv_scores_ridge)\n",
    "mean_cv_scores_elastic_net = np.mean(cv_scores_elastic_net)\n",
    "\n",
    "#mean_cv_scores_lasso, mean_cv_scores_ridge, mean_cv_scores_elastic_net\n",
    "# Printing the mean cv scores for each model with their names\n",
    "print(\"Lasso Regression Mean CV Score:\", mean_cv_scores_lasso)\n",
    "print(\"Ridge Regression Mean CV Score:\", mean_cv_scores_ridge)\n",
    "print(\"Elastic Net Regression Mean CV Score:\", mean_cv_scores_elastic_net)\n"
   ]
  },
  {
   "cell_type": "markdown",
   "id": "52835326",
   "metadata": {},
   "source": [
    "# Hyperparamter Tuning"
   ]
  },
  {
   "cell_type": "code",
   "execution_count": 47,
   "id": "5ef3c362",
   "metadata": {},
   "outputs": [
    {
     "data": {
      "text/plain": [
       "({'alpha': 1},\n",
       " 0.9999596955703678,\n",
       " {'alpha': 0.01},\n",
       " 0.99995969555355,\n",
       " {'alpha': 0.01, 'l1_ratio': 0.9},\n",
       " 0.9999596955647725)"
      ]
     },
     "execution_count": 47,
     "metadata": {},
     "output_type": "execute_result"
    }
   ],
   "source": [
    "from sklearn.model_selection import GridSearchCV\n",
    "\n",
    "# Setting up the hyperparameter grid for tuning\n",
    "# For Lasso and Ridge, we'll vary 'alpha'\n",
    "# For Elastic Net, we'll vary both 'alpha' and 'l1_ratio'\n",
    "lasso_params = {'alpha': [0.01, 0.1, 1, 10, 100]}\n",
    "ridge_params = {'alpha': [0.01, 0.1, 1, 10, 100]}\n",
    "elastic_net_params = {'alpha': [0.01, 0.1, 1, 10, 100], 'l1_ratio': [0.1, 0.5, 0.9]}\n",
    "\n",
    "# GridSearchCV for each model\n",
    "grid_search_lasso = GridSearchCV(Lasso(), lasso_params, cv=5)\n",
    "grid_search_ridge = GridSearchCV(Ridge(), ridge_params, cv=5)\n",
    "grid_search_elastic_net = GridSearchCV(ElasticNet(), elastic_net_params, cv=5)\n",
    "\n",
    "# Performing the grid search for each model\n",
    "grid_search_lasso.fit(X, y)\n",
    "grid_search_ridge.fit(X, y)\n",
    "grid_search_elastic_net.fit(X, y)\n",
    "\n",
    "# Getting the best parameters and best scores for each model\n",
    "best_params_lasso = grid_search_lasso.best_params_\n",
    "best_score_lasso = grid_search_lasso.best_score_\n",
    "\n",
    "best_params_ridge = grid_search_ridge.best_params_\n",
    "best_score_ridge = grid_search_ridge.best_score_\n",
    "\n",
    "best_params_elastic_net = grid_search_elastic_net.best_params_\n",
    "best_score_elastic_net = grid_search_elastic_net.best_score_\n",
    "\n",
    "best_params_lasso, best_score_lasso, best_params_ridge, best_score_ridge, best_params_elastic_net, best_score_elastic_net\n"
   ]
  },
  {
   "cell_type": "code",
   "execution_count": null,
   "id": "892c425e",
   "metadata": {},
   "outputs": [],
   "source": []
  },
  {
   "cell_type": "code",
   "execution_count": null,
   "id": "336cf011",
   "metadata": {},
   "outputs": [],
   "source": []
  },
  {
   "cell_type": "code",
   "execution_count": 48,
   "id": "f229604a",
   "metadata": {},
   "outputs": [
    {
     "data": {
      "text/html": [
       "<style>#sk-container-id-2 {color: black;background-color: white;}#sk-container-id-2 pre{padding: 0;}#sk-container-id-2 div.sk-toggleable {background-color: white;}#sk-container-id-2 label.sk-toggleable__label {cursor: pointer;display: block;width: 100%;margin-bottom: 0;padding: 0.3em;box-sizing: border-box;text-align: center;}#sk-container-id-2 label.sk-toggleable__label-arrow:before {content: \"▸\";float: left;margin-right: 0.25em;color: #696969;}#sk-container-id-2 label.sk-toggleable__label-arrow:hover:before {color: black;}#sk-container-id-2 div.sk-estimator:hover label.sk-toggleable__label-arrow:before {color: black;}#sk-container-id-2 div.sk-toggleable__content {max-height: 0;max-width: 0;overflow: hidden;text-align: left;background-color: #f0f8ff;}#sk-container-id-2 div.sk-toggleable__content pre {margin: 0.2em;color: black;border-radius: 0.25em;background-color: #f0f8ff;}#sk-container-id-2 input.sk-toggleable__control:checked~div.sk-toggleable__content {max-height: 200px;max-width: 100%;overflow: auto;}#sk-container-id-2 input.sk-toggleable__control:checked~label.sk-toggleable__label-arrow:before {content: \"▾\";}#sk-container-id-2 div.sk-estimator input.sk-toggleable__control:checked~label.sk-toggleable__label {background-color: #d4ebff;}#sk-container-id-2 div.sk-label input.sk-toggleable__control:checked~label.sk-toggleable__label {background-color: #d4ebff;}#sk-container-id-2 input.sk-hidden--visually {border: 0;clip: rect(1px 1px 1px 1px);clip: rect(1px, 1px, 1px, 1px);height: 1px;margin: -1px;overflow: hidden;padding: 0;position: absolute;width: 1px;}#sk-container-id-2 div.sk-estimator {font-family: monospace;background-color: #f0f8ff;border: 1px dotted black;border-radius: 0.25em;box-sizing: border-box;margin-bottom: 0.5em;}#sk-container-id-2 div.sk-estimator:hover {background-color: #d4ebff;}#sk-container-id-2 div.sk-parallel-item::after {content: \"\";width: 100%;border-bottom: 1px solid gray;flex-grow: 1;}#sk-container-id-2 div.sk-label:hover label.sk-toggleable__label {background-color: #d4ebff;}#sk-container-id-2 div.sk-serial::before {content: \"\";position: absolute;border-left: 1px solid gray;box-sizing: border-box;top: 0;bottom: 0;left: 50%;z-index: 0;}#sk-container-id-2 div.sk-serial {display: flex;flex-direction: column;align-items: center;background-color: white;padding-right: 0.2em;padding-left: 0.2em;position: relative;}#sk-container-id-2 div.sk-item {position: relative;z-index: 1;}#sk-container-id-2 div.sk-parallel {display: flex;align-items: stretch;justify-content: center;background-color: white;position: relative;}#sk-container-id-2 div.sk-item::before, #sk-container-id-2 div.sk-parallel-item::before {content: \"\";position: absolute;border-left: 1px solid gray;box-sizing: border-box;top: 0;bottom: 0;left: 50%;z-index: -1;}#sk-container-id-2 div.sk-parallel-item {display: flex;flex-direction: column;z-index: 1;position: relative;background-color: white;}#sk-container-id-2 div.sk-parallel-item:first-child::after {align-self: flex-end;width: 50%;}#sk-container-id-2 div.sk-parallel-item:last-child::after {align-self: flex-start;width: 50%;}#sk-container-id-2 div.sk-parallel-item:only-child::after {width: 0;}#sk-container-id-2 div.sk-dashed-wrapped {border: 1px dashed gray;margin: 0 0.4em 0.5em 0.4em;box-sizing: border-box;padding-bottom: 0.4em;background-color: white;}#sk-container-id-2 div.sk-label label {font-family: monospace;font-weight: bold;display: inline-block;line-height: 1.2em;}#sk-container-id-2 div.sk-label-container {text-align: center;}#sk-container-id-2 div.sk-container {/* jupyter's `normalize.less` sets `[hidden] { display: none; }` but bootstrap.min.css set `[hidden] { display: none !important; }` so we also need the `!important` here to be able to override the default hidden behavior on the sphinx rendered scikit-learn.org. See: https://github.com/scikit-learn/scikit-learn/issues/21755 */display: inline-block !important;position: relative;}#sk-container-id-2 div.sk-text-repr-fallback {display: none;}</style><div id=\"sk-container-id-2\" class=\"sk-top-container\"><div class=\"sk-text-repr-fallback\"><pre>GridSearchCV(cv=5, estimator=ElasticNet(),\n",
       "             param_grid={&#x27;alpha&#x27;: [0.01, 0.1, 1, 10, 100],\n",
       "                         &#x27;l1_ratio&#x27;: [0.1, 0.5, 0.9]})</pre><b>In a Jupyter environment, please rerun this cell to show the HTML representation or trust the notebook. <br />On GitHub, the HTML representation is unable to render, please try loading this page with nbviewer.org.</b></div><div class=\"sk-container\" hidden><div class=\"sk-item sk-dashed-wrapped\"><div class=\"sk-label-container\"><div class=\"sk-label sk-toggleable\"><input class=\"sk-toggleable__control sk-hidden--visually\" id=\"sk-estimator-id-2\" type=\"checkbox\" ><label for=\"sk-estimator-id-2\" class=\"sk-toggleable__label sk-toggleable__label-arrow\">GridSearchCV</label><div class=\"sk-toggleable__content\"><pre>GridSearchCV(cv=5, estimator=ElasticNet(),\n",
       "             param_grid={&#x27;alpha&#x27;: [0.01, 0.1, 1, 10, 100],\n",
       "                         &#x27;l1_ratio&#x27;: [0.1, 0.5, 0.9]})</pre></div></div></div><div class=\"sk-parallel\"><div class=\"sk-parallel-item\"><div class=\"sk-item\"><div class=\"sk-label-container\"><div class=\"sk-label sk-toggleable\"><input class=\"sk-toggleable__control sk-hidden--visually\" id=\"sk-estimator-id-3\" type=\"checkbox\" ><label for=\"sk-estimator-id-3\" class=\"sk-toggleable__label sk-toggleable__label-arrow\">estimator: ElasticNet</label><div class=\"sk-toggleable__content\"><pre>ElasticNet()</pre></div></div></div><div class=\"sk-serial\"><div class=\"sk-item\"><div class=\"sk-estimator sk-toggleable\"><input class=\"sk-toggleable__control sk-hidden--visually\" id=\"sk-estimator-id-4\" type=\"checkbox\" ><label for=\"sk-estimator-id-4\" class=\"sk-toggleable__label sk-toggleable__label-arrow\">ElasticNet</label><div class=\"sk-toggleable__content\"><pre>ElasticNet()</pre></div></div></div></div></div></div></div></div></div></div>"
      ],
      "text/plain": [
       "GridSearchCV(cv=5, estimator=ElasticNet(),\n",
       "             param_grid={'alpha': [0.01, 0.1, 1, 10, 100],\n",
       "                         'l1_ratio': [0.1, 0.5, 0.9]})"
      ]
     },
     "execution_count": 48,
     "metadata": {},
     "output_type": "execute_result"
    }
   ],
   "source": [
    "\n",
    "# Perform grid search on the training data\n",
    "grid_search_lasso.fit(X_train, y_train)\n",
    "grid_search_ridge.fit(X_train, y_train)\n",
    "grid_search_elastic_net.fit(X_train, y_train)\n"
   ]
  },
  {
   "cell_type": "code",
   "execution_count": 49,
   "id": "dd2d0fc5",
   "metadata": {},
   "outputs": [],
   "source": [
    "from sklearn.metrics import mean_squared_error, mean_absolute_error\n",
    "import numpy as np\n",
    "\n",
    "# Make predictions with the best estimators\n",
    "y_pred_lasso = grid_search_lasso.best_estimator_.predict(X_test)\n",
    "y_pred_ridge = grid_search_ridge.best_estimator_.predict(X_test)\n",
    "y_pred_elastic_net = grid_search_elastic_net.best_estimator_.predict(X_test)\n"
   ]
  },
  {
   "cell_type": "code",
   "execution_count": 50,
   "id": "f4264372",
   "metadata": {},
   "outputs": [],
   "source": [
    "# Function to calculate Huber Loss\n",
    "def huber_loss(y_true, y_pred, delta=1.0):\n",
    "    error = y_true - y_pred\n",
    "    is_small_error = np.abs(error) <= delta\n",
    "    squared_loss = 0.5 * error**2\n",
    "    linear_loss = delta * (np.abs(error) - 0.5 * delta)\n",
    "    return np.where(is_small_error, squared_loss, linear_loss).mean()\n",
    "\n",
    "# RMSE, MAE, and Huber Loss for Lasso\n",
    "rmse_lasso = np.sqrt(mean_squared_error(y_test, y_pred_lasso))\n",
    "mae_lasso = mean_absolute_error(y_test, y_pred_lasso)\n",
    "huber_lasso = huber_loss(y_test, y_pred_lasso)\n",
    "\n",
    "# Similarly for Ridge and Elastic Net\n",
    "# ...\n"
   ]
  },
  {
   "cell_type": "code",
   "execution_count": 51,
   "id": "db39a477",
   "metadata": {},
   "outputs": [
    {
     "name": "stdout",
     "output_type": "stream",
     "text": [
      "Lasso Metrics:\n",
      "  R-squared: 1.0000\n",
      "  RMSE: 8.6816\n",
      "  MAE: 7.0855\n",
      "  Huber Loss: 6.6060\n",
      "\n"
     ]
    }
   ],
   "source": [
    "from sklearn.metrics import mean_squared_error, mean_absolute_error, r2_score\n",
    "\n",
    "# Function to calculate and print metrics\n",
    "def print_metrics(model_name, y_true, y_pred):\n",
    "    mse = mean_squared_error(y_true, y_pred)\n",
    "    rmse = np.sqrt(mse)\n",
    "    mae = mean_absolute_error(y_true, y_pred)\n",
    "    r2 = r2_score(y_true, y_pred)\n",
    "    huber = huber_loss(y_true, y_pred)\n",
    "\n",
    "    print(f\"{model_name} Metrics:\")\n",
    "    print(f\"  R-squared: {r2:.4f}\")\n",
    "    print(f\"  RMSE: {rmse:.4f}\")\n",
    "    print(f\"  MAE: {mae:.4f}\")\n",
    "    print(f\"  Huber Loss: {huber:.4f}\\n\")\n",
    "\n",
    "# Calculate and print metrics for Lasso\n",
    "print_metrics(\"Lasso\", y_test, y_pred_lasso)"
   ]
  },
  {
   "cell_type": "code",
   "execution_count": null,
   "id": "c61d954e",
   "metadata": {},
   "outputs": [],
   "source": []
  },
  {
   "cell_type": "code",
   "execution_count": null,
   "id": "a5703d59",
   "metadata": {},
   "outputs": [],
   "source": []
  },
  {
   "cell_type": "code",
   "execution_count": 52,
   "id": "9de9a4a6",
   "metadata": {},
   "outputs": [
    {
     "name": "stdout",
     "output_type": "stream",
     "text": [
      "Lasso Regression Metrics:\n",
      "RMSE: 8.68158755933094, MAE: 7.0855102264554795, Huber Loss: 6.605969314525386\n",
      "\n",
      "Ridge Regression Metrics:\n",
      "RMSE: 8.68135484975092, MAE: 7.0853741024411345, Huber Loss: 6.605802119767782\n",
      "\n",
      "Elastic Net Regression Metrics:\n",
      "RMSE: 8.681591523806558, MAE: 7.085513234293717, Huber Loss: 6.605972467626966\n",
      "\n"
     ]
    }
   ],
   "source": [
    "# RMSE, MAE, and Huber Loss for Ridge\n",
    "rmse_ridge = np.sqrt(mean_squared_error(y_test, y_pred_ridge))\n",
    "mae_ridge = mean_absolute_error(y_test, y_pred_ridge)\n",
    "huber_ridge = huber_loss(y_test, y_pred_ridge)\n",
    "\n",
    "# RMSE, MAE, and Huber Loss for Elastic Net\n",
    "rmse_elastic_net = np.sqrt(mean_squared_error(y_test, y_pred_elastic_net))\n",
    "mae_elastic_net = mean_absolute_error(y_test, y_pred_elastic_net)\n",
    "huber_elastic_net = huber_loss(y_test, y_pred_elastic_net)\n",
    "\n",
    "# Output the results\n",
    "print(\"Lasso Regression Metrics:\")\n",
    "print(f\"RMSE: {rmse_lasso}, MAE: {mae_lasso}, Huber Loss: {huber_lasso}\\n\")\n",
    "\n",
    "print(\"Ridge Regression Metrics:\")\n",
    "print(f\"RMSE: {rmse_ridge}, MAE: {mae_ridge}, Huber Loss: {huber_ridge}\\n\")\n",
    "\n",
    "print(\"Elastic Net Regression Metrics:\")\n",
    "print(f\"RMSE: {rmse_elastic_net}, MAE: {mae_elastic_net}, Huber Loss: {huber_elastic_net}\\n\")\n"
   ]
  },
  {
   "cell_type": "code",
   "execution_count": null,
   "id": "20de4ab2",
   "metadata": {},
   "outputs": [],
   "source": []
  },
  {
   "cell_type": "code",
   "execution_count": 56,
   "id": "fc9ada59",
   "metadata": {},
   "outputs": [
    {
     "name": "stderr",
     "output_type": "stream",
     "text": [
      "C:\\Users\\cyril\\anaconda3\\lib\\site-packages\\seaborn\\distributions.py:2619: FutureWarning: `distplot` is a deprecated function and will be removed in a future version. Please adapt your code to use either `displot` (a figure-level function with similar flexibility) or `histplot` (an axes-level function for histograms).\n",
      "  warnings.warn(msg, FutureWarning)\n"
     ]
    },
    {
     "data": {
      "text/plain": [
       "Text(0.5, 0, 'Residuals')"
      ]
     },
     "execution_count": 56,
     "metadata": {},
     "output_type": "execute_result"
    },
    {
     "data": {
      "image/png": "[encoded data removed]",
      "text/plain": [
       "<Figure size 432x288 with 1 Axes>"
      ]
     },
     "metadata": {
      "needs_background": "light"
     },
     "output_type": "display_data"
    }
   ],
   "source": [
    "# Plot the histogram of the error terms\n",
    "fig = plt.figure()\n",
    "sns.distplot((y_test - y_pred_ridge), bins = 20)\n",
    "fig.suptitle('Error Terms', fontsize = 20)                  # Plot heading \n",
    "plt.xlabel('Residuals', fontsize = 18)     "
   ]
  },
  {
   "cell_type": "code",
   "execution_count": null,
   "id": "26584059",
   "metadata": {},
   "outputs": [],
   "source": []
  },
  {
   "cell_type": "markdown",
   "id": "73ea9201",
   "metadata": {},
   "source": [
    "# Q-Q Plots"
   ]
  },
  {
   "cell_type": "code",
   "execution_count": 59,
   "id": "b0013c71",
   "metadata": {},
   "outputs": [
    {
     "data": {
      "image/png": "[encoded data removed]",
      "text/plain": [
       "<Figure size 720x432 with 1 Axes>"
      ]
     },
     "metadata": {
      "needs_background": "light"
     },
     "output_type": "display_data"
    },
    {
     "data": {
      "image/png": "[encoded data removed]",
      "text/plain": [
       "<Figure size 720x432 with 1 Axes>"
      ]
     },
     "metadata": {
      "needs_background": "light"
     },
     "output_type": "display_data"
    }
   ],
   "source": [
    "\n",
    "import scipy.stats as stats\n",
    "\n",
    "# Calculating residuals\n",
    "residuals = y_test - y_pred_ridge\n",
    "\n",
    "# Plotting the Residuals vs Fitted Values\n",
    "plt.figure(figsize=(10, 6))\n",
    "sns.residplot(x=y_pred_ridge, y=residuals, lowess=True)\n",
    "plt.axhline(y=0, color='red', linestyle='--')\n",
    "plt.xlabel('Fitted Values')\n",
    "plt.ylabel('Residuals')\n",
    "plt.title('Residuals vs Fitted Values')\n",
    "plt.show()\n",
    "\n",
    "# Creating the Q-Q plot for residuals\n",
    "plt.figure(figsize=(10, 6))\n",
    "stats.probplot(residuals, dist=\"norm\", plot=plt)\n",
    "plt.title('Q-Q Plot of Residuals (Test Set)')\n",
    "plt.show()"
   ]
  },
  {
   "cell_type": "code",
   "execution_count": 61,
   "id": "3fb73789",
   "metadata": {},
   "outputs": [
    {
     "data": {
      "image/png": "[encoded data removed]",
      "text/plain": [
       "<Figure size 720x432 with 1 Axes>"
      ]
     },
     "metadata": {
      "needs_background": "light"
     },
     "output_type": "display_data"
    }
   ],
   "source": [
    "# Create the Q-Q plot for residuals\n",
    "plt.figure(figsize=(10, 6))\n",
    "stats.probplot(residuals, dist=\"norm\", plot=plt)\n",
    "plt.xlabel('Theoretical Quantiles', fontsize=14, fontweight='bold')\n",
    "plt.ylabel('Ordered Values', fontsize=14, fontweight='bold')\n",
    "#plt.title('Q-Q Plot of Residuals (Test Set)')\n",
    "plt.tick_params(axis='both', which='major', labelsize=12)\n",
    "plt.show()"
   ]
  },
  {
   "cell_type": "code",
   "execution_count": null,
   "id": "0dcdf3db",
   "metadata": {},
   "outputs": [],
   "source": []
  },
  {
   "cell_type": "code",
   "execution_count": 62,
   "id": "da68ed20",
   "metadata": {},
   "outputs": [
    {
     "name": "stdout",
     "output_type": "stream",
     "text": [
      "[2.00111048 2.99803879 1.49974348 2.50002106 1.19984407 3.99891569]\n"
     ]
    }
   ],
   "source": [
    "# After fitting GridSearchCV with your Ridge model\n",
    "best_ridge_model = grid_search_ridge.best_estimator_\n",
    "\n",
    "# Retrieve the coefficients from the best Ridge model\n",
    "ridge_coefficients = best_ridge_model.coef_\n",
    "\n",
    "# Now, you can print or analyze the coefficients\n",
    "print(ridge_coefficients)\n"
   ]
  },
  {
   "cell_type": "code",
   "execution_count": 63,
   "id": "e3a0270c",
   "metadata": {},
   "outputs": [
    {
     "name": "stdout",
     "output_type": "stream",
     "text": [
      "                      Coefficient\n",
      "TV                       2.001110\n",
      "Billboards               2.998039\n",
      "Google_Ads               1.499743\n",
      "Social_Media             2.500021\n",
      "Influencer_Marketing     1.199844\n",
      "Affiliate_Marketing      3.998916\n",
      "Intercept                0.088698\n"
     ]
    }
   ],
   "source": [
    "import pandas as pd\n",
    "\n",
    "# Assuming you've already determined the best Ridge model through GridSearchCV\n",
    "best_ridge_model = grid_search_ridge.best_estimator_\n",
    "\n",
    "# Retrieve the coefficients and intercept\n",
    "ridge_coefficients = best_ridge_model.coef_\n",
    "ridge_intercept = best_ridge_model.intercept_\n",
    "\n",
    "# Variable names\n",
    "variables = ['TV', 'Billboards', 'Google_Ads', 'Social_Media', 'Influencer_Marketing', 'Affiliate_Marketing']\n",
    "\n",
    "# Creating a DataFrame to display coefficients and the intercept\n",
    "coef_df = pd.DataFrame(data={'Coefficient': ridge_coefficients}, index=variables)\n",
    "coef_df.loc['Intercept'] = ridge_intercept\n",
    "\n",
    "# Display the DataFrame\n",
    "print(coef_df)\n"
   ]
  },
  {
   "cell_type": "code",
   "execution_count": null,
   "id": "dfdbd217",
   "metadata": {},
   "outputs": [],
   "source": []
  },
  {
   "cell_type": "markdown",
   "id": "d1c1f35e",
   "metadata": {},
   "source": [
    "# ANOVA Testing"
   ]
  },
  {
   "cell_type": "markdown",
   "id": "fcd16ada",
   "metadata": {},
   "source": [
    "**Conducting an ANOVA test to determine if there are significant differences in the average spending across different marketing channels.**"
   ]
  },
  {
   "cell_type": "code",
   "execution_count": 65,
   "id": "bf042a6b",
   "metadata": {},
   "outputs": [
    {
     "data": {
      "text/html": [
       "<div>\n",
       "<style scoped>\n",
       "    .dataframe tbody tr th:only-of-type {\n",
       "        vertical-align: middle;\n",
       "    }\n",
       "\n",
       "    .dataframe tbody tr th {\n",
       "        vertical-align: top;\n",
       "    }\n",
       "\n",
       "    .dataframe thead th {\n",
       "        text-align: right;\n",
       "    }\n",
       "</style>\n",
       "<table border=\"1\" class=\"dataframe\">\n",
       "  <thead>\n",
       "    <tr style=\"text-align: right;\">\n",
       "      <th></th>\n",
       "      <th>TV</th>\n",
       "      <th>Billboards</th>\n",
       "      <th>Google_Ads</th>\n",
       "      <th>Social_Media</th>\n",
       "      <th>Influencer_Marketing</th>\n",
       "      <th>Affiliate_Marketing</th>\n",
       "    </tr>\n",
       "  </thead>\n",
       "  <tbody>\n",
       "    <tr>\n",
       "      <th>0</th>\n",
       "      <td>281.42</td>\n",
       "      <td>538.80</td>\n",
       "      <td>123.94</td>\n",
       "      <td>349.30</td>\n",
       "      <td>242.77</td>\n",
       "      <td>910.10</td>\n",
       "    </tr>\n",
       "    <tr>\n",
       "      <th>1</th>\n",
       "      <td>702.97</td>\n",
       "      <td>296.53</td>\n",
       "      <td>558.13</td>\n",
       "      <td>180.55</td>\n",
       "      <td>781.06</td>\n",
       "      <td>132.43</td>\n",
       "    </tr>\n",
       "    <tr>\n",
       "      <th>2</th>\n",
       "      <td>313.14</td>\n",
       "      <td>295.94</td>\n",
       "      <td>642.96</td>\n",
       "      <td>505.71</td>\n",
       "      <td>438.91</td>\n",
       "      <td>464.23</td>\n",
       "    </tr>\n",
       "    <tr>\n",
       "      <th>3</th>\n",
       "      <td>898.52</td>\n",
       "      <td>61.27</td>\n",
       "      <td>548.73</td>\n",
       "      <td>240.93</td>\n",
       "      <td>278.96</td>\n",
       "      <td>432.27</td>\n",
       "    </tr>\n",
       "    <tr>\n",
       "      <th>4</th>\n",
       "      <td>766.52</td>\n",
       "      <td>550.72</td>\n",
       "      <td>651.91</td>\n",
       "      <td>666.33</td>\n",
       "      <td>396.33</td>\n",
       "      <td>841.93</td>\n",
       "    </tr>\n",
       "  </tbody>\n",
       "</table>\n",
       "</div>"
      ],
      "text/plain": [
       "       TV  Billboards  Google_Ads  Social_Media  Influencer_Marketing  \\\n",
       "0  281.42      538.80      123.94        349.30                242.77   \n",
       "1  702.97      296.53      558.13        180.55                781.06   \n",
       "2  313.14      295.94      642.96        505.71                438.91   \n",
       "3  898.52       61.27      548.73        240.93                278.96   \n",
       "4  766.52      550.72      651.91        666.33                396.33   \n",
       "\n",
       "   Affiliate_Marketing  \n",
       "0               910.10  \n",
       "1               132.43  \n",
       "2               464.23  \n",
       "3               432.27  \n",
       "4               841.93  "
      ]
     },
     "execution_count": 65,
     "metadata": {},
     "output_type": "execute_result"
    }
   ],
   "source": [
    "df_box.head()"
   ]
  },
  {
   "cell_type": "code",
   "execution_count": 66,
   "id": "0a34d41d",
   "metadata": {},
   "outputs": [
    {
     "data": {
      "text/plain": [
       "(300, 6)"
      ]
     },
     "execution_count": 66,
     "metadata": {},
     "output_type": "execute_result"
    }
   ],
   "source": [
    "df_box.shape"
   ]
  },
  {
   "cell_type": "code",
   "execution_count": 68,
   "id": "61088362",
   "metadata": {},
   "outputs": [
    {
     "data": {
      "text/html": [
       "<div>\n",
       "<style scoped>\n",
       "    .dataframe tbody tr th:only-of-type {\n",
       "        vertical-align: middle;\n",
       "    }\n",
       "\n",
       "    .dataframe tbody tr th {\n",
       "        vertical-align: top;\n",
       "    }\n",
       "\n",
       "    .dataframe thead th {\n",
       "        text-align: right;\n",
       "    }\n",
       "</style>\n",
       "<table border=\"1\" class=\"dataframe\">\n",
       "  <thead>\n",
       "    <tr style=\"text-align: right;\">\n",
       "      <th></th>\n",
       "      <th>TV</th>\n",
       "      <th>Billboards</th>\n",
       "      <th>Google_Ads</th>\n",
       "      <th>Social_Media</th>\n",
       "      <th>Influencer_Marketing</th>\n",
       "      <th>Affiliate_Marketing</th>\n",
       "    </tr>\n",
       "  </thead>\n",
       "  <tbody>\n",
       "    <tr>\n",
       "      <th>count</th>\n",
       "      <td>300.000000</td>\n",
       "      <td>300.000000</td>\n",
       "      <td>300.000000</td>\n",
       "      <td>300.000000</td>\n",
       "      <td>300.000000</td>\n",
       "      <td>300.000000</td>\n",
       "    </tr>\n",
       "    <tr>\n",
       "      <th>mean</th>\n",
       "      <td>517.431000</td>\n",
       "      <td>502.644933</td>\n",
       "      <td>512.444133</td>\n",
       "      <td>489.800100</td>\n",
       "      <td>465.732567</td>\n",
       "      <td>484.430633</td>\n",
       "    </tr>\n",
       "    <tr>\n",
       "      <th>std</th>\n",
       "      <td>288.114792</td>\n",
       "      <td>275.842369</td>\n",
       "      <td>285.422376</td>\n",
       "      <td>273.883915</td>\n",
       "      <td>288.314080</td>\n",
       "      <td>277.955458</td>\n",
       "    </tr>\n",
       "    <tr>\n",
       "      <th>min</th>\n",
       "      <td>1.040000</td>\n",
       "      <td>3.630000</td>\n",
       "      <td>14.860000</td>\n",
       "      <td>11.690000</td>\n",
       "      <td>0.770000</td>\n",
       "      <td>6.740000</td>\n",
       "    </tr>\n",
       "    <tr>\n",
       "      <th>25%</th>\n",
       "      <td>273.090000</td>\n",
       "      <td>277.912500</td>\n",
       "      <td>250.530000</td>\n",
       "      <td>265.612500</td>\n",
       "      <td>214.480000</td>\n",
       "      <td>267.677500</td>\n",
       "    </tr>\n",
       "    <tr>\n",
       "      <th>50%</th>\n",
       "      <td>513.970000</td>\n",
       "      <td>533.020000</td>\n",
       "      <td>528.965000</td>\n",
       "      <td>486.385000</td>\n",
       "      <td>480.355000</td>\n",
       "      <td>451.315000</td>\n",
       "    </tr>\n",
       "    <tr>\n",
       "      <th>75%</th>\n",
       "      <td>774.275000</td>\n",
       "      <td>745.005000</td>\n",
       "      <td>763.345000</td>\n",
       "      <td>695.117500</td>\n",
       "      <td>703.092500</td>\n",
       "      <td>721.065000</td>\n",
       "    </tr>\n",
       "    <tr>\n",
       "      <th>max</th>\n",
       "      <td>998.100000</td>\n",
       "      <td>995.320000</td>\n",
       "      <td>999.230000</td>\n",
       "      <td>996.160000</td>\n",
       "      <td>999.830000</td>\n",
       "      <td>987.580000</td>\n",
       "    </tr>\n",
       "  </tbody>\n",
       "</table>\n",
       "</div>"
      ],
      "text/plain": [
       "               TV  Billboards  Google_Ads  Social_Media  Influencer_Marketing  \\\n",
       "count  300.000000  300.000000  300.000000    300.000000            300.000000   \n",
       "mean   517.431000  502.644933  512.444133    489.800100            465.732567   \n",
       "std    288.114792  275.842369  285.422376    273.883915            288.314080   \n",
       "min      1.040000    3.630000   14.860000     11.690000              0.770000   \n",
       "25%    273.090000  277.912500  250.530000    265.612500            214.480000   \n",
       "50%    513.970000  533.020000  528.965000    486.385000            480.355000   \n",
       "75%    774.275000  745.005000  763.345000    695.117500            703.092500   \n",
       "max    998.100000  995.320000  999.230000    996.160000            999.830000   \n",
       "\n",
       "       Affiliate_Marketing  \n",
       "count           300.000000  \n",
       "mean            484.430633  \n",
       "std             277.955458  \n",
       "min               6.740000  \n",
       "25%             267.677500  \n",
       "50%             451.315000  \n",
       "75%             721.065000  \n",
       "max             987.580000  "
      ]
     },
     "execution_count": 68,
     "metadata": {},
     "output_type": "execute_result"
    }
   ],
   "source": [
    "df_box.describe()"
   ]
  },
  {
   "cell_type": "code",
   "execution_count": 67,
   "id": "37818802",
   "metadata": {},
   "outputs": [
    {
     "name": "stdout",
     "output_type": "stream",
     "text": [
      "F-Value: 1.4069854483252942\n",
      "P-Value: 0.21863731097065547\n"
     ]
    }
   ],
   "source": [
    "f_value, p_value = stats.f_oneway(\n",
    "    df_box['TV'],\n",
    "    df_box['Billboards'],\n",
    "    df_box['Google_Ads'],\n",
    "    df_box['Social_Media'],\n",
    "    df_box['Influencer_Marketing'],\n",
    "    df_box['Affiliate_Marketing']\n",
    ")\n",
    "\n",
    "# Output the results of the ANOVA\n",
    "print(\"F-Value:\", f_value)\n",
    "print(\"P-Value:\", p_value)"
   ]
  },
  {
   "cell_type": "markdown",
   "id": "c1ee504c",
   "metadata": {},
   "source": [
    "The p-value from the ANOVA test is 0.2186. Since this value is greater than the common significance level threshold of 0.05, we fail to reject the null hypothesis. This suggests that there are no statistically significant differences in the average spending across the different marketing channels based on the data analyzed."
   ]
  },
  {
   "cell_type": "code",
   "execution_count": null,
   "id": "ae041bab",
   "metadata": {},
   "outputs": [],
   "source": []
  },
  {
   "cell_type": "code",
   "execution_count": null,
   "id": "27c02e20",
   "metadata": {},
   "outputs": [],
   "source": []
  },
  {
   "cell_type": "code",
   "execution_count": null,
   "id": "57b5cb8e",
   "metadata": {},
   "outputs": [],
   "source": []
  },
  {
   "cell_type": "code",
   "execution_count": null,
   "id": "8c93d479",
   "metadata": {},
   "outputs": [],
   "source": []
  },
  {
   "cell_type": "code",
   "execution_count": null,
   "id": "8c8dde5c",
   "metadata": {},
   "outputs": [],
   "source": []
  }
 ],
 "metadata": {
  "kernelspec": {
   "display_name": "Python 3 (ipykernel)",
   "language": "python",
   "name": "python3"
  },
  "language_info": {
   "codemirror_mode": {
    "name": "ipython",
    "version": 3
   },
   "file_extension": ".py",
   "mimetype": "text/x-python",
   "name": "python",
   "nbconvert_exporter": "python",
   "pygments_lexer": "ipython3",
   "version": "3.9.12"
  }
 },
 "nbformat": 4,
 "nbformat_minor": 5
}
