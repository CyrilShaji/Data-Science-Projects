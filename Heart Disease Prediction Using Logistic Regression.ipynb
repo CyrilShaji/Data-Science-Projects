{
 "cells": [
  {
   "cell_type": "markdown",
   "id": "bc085206",
   "metadata": {},
   "source": [
    "\n",
    "# <p style=\"padding:10px;background-color:#8B0000;margin:0;color:white;font-family:newtimeroman;font-size:150%;text-align:center;border-radius: 15px 50px;overflow:hidden;font-weight:500\">\"Heart Disease Prediction Using Logistic Regression\"</p>"
   ]
  },
  {
   "cell_type": "markdown",
   "id": "9b901342",
   "metadata": {},
   "source": [
    " \n",
    "\n",
    "### <p style=\"padding:10px;background-color:#0f5c59;margin:0;color:white;font-family:newtimeroman;font-size:150%;text-align:center;border-radius: 5px 20px;overflow:hidden;font-weight:500\">Problem Statement</p>\n",
    "\n",
    "\n",
    "#### Objective: Develop a logistic regression model to predict the likelihood of developing heart disease within the next ten years, using various health indicators and lifestyle factors.\n",
    "- **Data Description** : The dataset includes variables such as age, gender, education, smoking status, daily cigarette consumption, blood pressure medication usage, stroke history, hypertension, diabetes status, total cholesterol, systolic and diastolic blood pressure, BMI, heart rate, glucose levels, and a binary target variable for heart disease occurrence.\n",
    "- **Goal**: Enable early detection and proactive management of heart disease risks through an effective predictive model, enhancing preventive health strategies and patient outcomes."
   ]
  },
  {
   "cell_type": "code",
   "execution_count": 237,
   "id": "24fc5d20",
   "metadata": {},
   "outputs": [],
   "source": [
    "# Import the numpy and pandas package\n",
    "import numpy as np\n",
    "import pandas as pd\n",
    "\n",
    "# Data Visualisation\n",
    "\n",
    "import matplotlib.pyplot as plt \n",
    "import seaborn as sns"
   ]
  },
  {
   "cell_type": "code",
   "execution_count": 238,
   "id": "caff4102",
   "metadata": {},
   "outputs": [],
   "source": [
    "raw_csv_data= pd.read_csv('CSV_Files/Heart_disease.csv')"
   ]
  },
  {
   "cell_type": "code",
   "execution_count": 239,
   "id": "efad213f",
   "metadata": {},
   "outputs": [
    {
     "data": {
      "text/html": [
       "<div>\n",
       "<style scoped>\n",
       "    .dataframe tbody tr th:only-of-type {\n",
       "        vertical-align: middle;\n",
       "    }\n",
       "\n",
       "    .dataframe tbody tr th {\n",
       "        vertical-align: top;\n",
       "    }\n",
       "\n",
       "    .dataframe thead th {\n",
       "        text-align: right;\n",
       "    }\n",
       "</style>\n",
       "<table border=\"1\" class=\"dataframe\">\n",
       "  <thead>\n",
       "    <tr style=\"text-align: right;\">\n",
       "      <th></th>\n",
       "      <th>male</th>\n",
       "      <th>age</th>\n",
       "      <th>education</th>\n",
       "      <th>currentSmoker</th>\n",
       "      <th>cigsPerDay</th>\n",
       "      <th>BPMeds</th>\n",
       "      <th>prevalentStroke</th>\n",
       "      <th>prevalentHyp</th>\n",
       "      <th>diabetes</th>\n",
       "      <th>totChol</th>\n",
       "      <th>sysBP</th>\n",
       "      <th>diaBP</th>\n",
       "      <th>BMI</th>\n",
       "      <th>heartRate</th>\n",
       "      <th>glucose</th>\n",
       "      <th>TenYearCHD</th>\n",
       "    </tr>\n",
       "  </thead>\n",
       "  <tbody>\n",
       "    <tr>\n",
       "      <th>0</th>\n",
       "      <td>1</td>\n",
       "      <td>39</td>\n",
       "      <td>4.0</td>\n",
       "      <td>0</td>\n",
       "      <td>0.0</td>\n",
       "      <td>0.0</td>\n",
       "      <td>0</td>\n",
       "      <td>0</td>\n",
       "      <td>0</td>\n",
       "      <td>195.0</td>\n",
       "      <td>106.0</td>\n",
       "      <td>70.0</td>\n",
       "      <td>26.97</td>\n",
       "      <td>80.0</td>\n",
       "      <td>77.0</td>\n",
       "      <td>0</td>\n",
       "    </tr>\n",
       "    <tr>\n",
       "      <th>1</th>\n",
       "      <td>0</td>\n",
       "      <td>46</td>\n",
       "      <td>2.0</td>\n",
       "      <td>0</td>\n",
       "      <td>0.0</td>\n",
       "      <td>0.0</td>\n",
       "      <td>0</td>\n",
       "      <td>0</td>\n",
       "      <td>0</td>\n",
       "      <td>250.0</td>\n",
       "      <td>121.0</td>\n",
       "      <td>81.0</td>\n",
       "      <td>28.73</td>\n",
       "      <td>95.0</td>\n",
       "      <td>76.0</td>\n",
       "      <td>0</td>\n",
       "    </tr>\n",
       "    <tr>\n",
       "      <th>2</th>\n",
       "      <td>1</td>\n",
       "      <td>48</td>\n",
       "      <td>1.0</td>\n",
       "      <td>1</td>\n",
       "      <td>20.0</td>\n",
       "      <td>0.0</td>\n",
       "      <td>0</td>\n",
       "      <td>0</td>\n",
       "      <td>0</td>\n",
       "      <td>245.0</td>\n",
       "      <td>127.5</td>\n",
       "      <td>80.0</td>\n",
       "      <td>25.34</td>\n",
       "      <td>75.0</td>\n",
       "      <td>70.0</td>\n",
       "      <td>0</td>\n",
       "    </tr>\n",
       "    <tr>\n",
       "      <th>3</th>\n",
       "      <td>0</td>\n",
       "      <td>61</td>\n",
       "      <td>3.0</td>\n",
       "      <td>1</td>\n",
       "      <td>30.0</td>\n",
       "      <td>0.0</td>\n",
       "      <td>0</td>\n",
       "      <td>1</td>\n",
       "      <td>0</td>\n",
       "      <td>225.0</td>\n",
       "      <td>150.0</td>\n",
       "      <td>95.0</td>\n",
       "      <td>28.58</td>\n",
       "      <td>65.0</td>\n",
       "      <td>103.0</td>\n",
       "      <td>1</td>\n",
       "    </tr>\n",
       "    <tr>\n",
       "      <th>4</th>\n",
       "      <td>0</td>\n",
       "      <td>46</td>\n",
       "      <td>3.0</td>\n",
       "      <td>1</td>\n",
       "      <td>23.0</td>\n",
       "      <td>0.0</td>\n",
       "      <td>0</td>\n",
       "      <td>0</td>\n",
       "      <td>0</td>\n",
       "      <td>285.0</td>\n",
       "      <td>130.0</td>\n",
       "      <td>84.0</td>\n",
       "      <td>23.10</td>\n",
       "      <td>85.0</td>\n",
       "      <td>85.0</td>\n",
       "      <td>0</td>\n",
       "    </tr>\n",
       "  </tbody>\n",
       "</table>\n",
       "</div>"
      ],
      "text/plain": [
       "   male  age  education  currentSmoker  cigsPerDay  BPMeds  prevalentStroke  \\\n",
       "0     1   39        4.0              0         0.0     0.0                0   \n",
       "1     0   46        2.0              0         0.0     0.0                0   \n",
       "2     1   48        1.0              1        20.0     0.0                0   \n",
       "3     0   61        3.0              1        30.0     0.0                0   \n",
       "4     0   46        3.0              1        23.0     0.0                0   \n",
       "\n",
       "   prevalentHyp  diabetes  totChol  sysBP  diaBP    BMI  heartRate  glucose  \\\n",
       "0             0         0    195.0  106.0   70.0  26.97       80.0     77.0   \n",
       "1             0         0    250.0  121.0   81.0  28.73       95.0     76.0   \n",
       "2             0         0    245.0  127.5   80.0  25.34       75.0     70.0   \n",
       "3             1         0    225.0  150.0   95.0  28.58       65.0    103.0   \n",
       "4             0         0    285.0  130.0   84.0  23.10       85.0     85.0   \n",
       "\n",
       "   TenYearCHD  \n",
       "0           0  \n",
       "1           0  \n",
       "2           0  \n",
       "3           1  \n",
       "4           0  "
      ]
     },
     "execution_count": 239,
     "metadata": {},
     "output_type": "execute_result"
    }
   ],
   "source": [
    "raw_csv_data.head()"
   ]
  },
  {
   "cell_type": "code",
   "execution_count": 240,
   "id": "6841fcaf",
   "metadata": {},
   "outputs": [
    {
     "data": {
      "text/html": [
       "<div>\n",
       "<style scoped>\n",
       "    .dataframe tbody tr th:only-of-type {\n",
       "        vertical-align: middle;\n",
       "    }\n",
       "\n",
       "    .dataframe tbody tr th {\n",
       "        vertical-align: top;\n",
       "    }\n",
       "\n",
       "    .dataframe thead th {\n",
       "        text-align: right;\n",
       "    }\n",
       "</style>\n",
       "<table border=\"1\" class=\"dataframe\">\n",
       "  <thead>\n",
       "    <tr style=\"text-align: right;\">\n",
       "      <th></th>\n",
       "      <th>male</th>\n",
       "      <th>age</th>\n",
       "      <th>education</th>\n",
       "      <th>currentSmoker</th>\n",
       "      <th>cigsPerDay</th>\n",
       "      <th>BPMeds</th>\n",
       "      <th>prevalentStroke</th>\n",
       "      <th>prevalentHyp</th>\n",
       "      <th>diabetes</th>\n",
       "      <th>totChol</th>\n",
       "      <th>sysBP</th>\n",
       "      <th>diaBP</th>\n",
       "      <th>BMI</th>\n",
       "      <th>heartRate</th>\n",
       "      <th>glucose</th>\n",
       "      <th>TenYearCHD</th>\n",
       "    </tr>\n",
       "  </thead>\n",
       "  <tbody>\n",
       "    <tr>\n",
       "      <th>0</th>\n",
       "      <td>1</td>\n",
       "      <td>39</td>\n",
       "      <td>4.0</td>\n",
       "      <td>0</td>\n",
       "      <td>0.0</td>\n",
       "      <td>0.0</td>\n",
       "      <td>0</td>\n",
       "      <td>0</td>\n",
       "      <td>0</td>\n",
       "      <td>195.0</td>\n",
       "      <td>106.0</td>\n",
       "      <td>70.0</td>\n",
       "      <td>26.97</td>\n",
       "      <td>80.0</td>\n",
       "      <td>77.0</td>\n",
       "      <td>0</td>\n",
       "    </tr>\n",
       "    <tr>\n",
       "      <th>1</th>\n",
       "      <td>0</td>\n",
       "      <td>46</td>\n",
       "      <td>2.0</td>\n",
       "      <td>0</td>\n",
       "      <td>0.0</td>\n",
       "      <td>0.0</td>\n",
       "      <td>0</td>\n",
       "      <td>0</td>\n",
       "      <td>0</td>\n",
       "      <td>250.0</td>\n",
       "      <td>121.0</td>\n",
       "      <td>81.0</td>\n",
       "      <td>28.73</td>\n",
       "      <td>95.0</td>\n",
       "      <td>76.0</td>\n",
       "      <td>0</td>\n",
       "    </tr>\n",
       "    <tr>\n",
       "      <th>2</th>\n",
       "      <td>1</td>\n",
       "      <td>48</td>\n",
       "      <td>1.0</td>\n",
       "      <td>1</td>\n",
       "      <td>20.0</td>\n",
       "      <td>0.0</td>\n",
       "      <td>0</td>\n",
       "      <td>0</td>\n",
       "      <td>0</td>\n",
       "      <td>245.0</td>\n",
       "      <td>127.5</td>\n",
       "      <td>80.0</td>\n",
       "      <td>25.34</td>\n",
       "      <td>75.0</td>\n",
       "      <td>70.0</td>\n",
       "      <td>0</td>\n",
       "    </tr>\n",
       "    <tr>\n",
       "      <th>3</th>\n",
       "      <td>0</td>\n",
       "      <td>61</td>\n",
       "      <td>3.0</td>\n",
       "      <td>1</td>\n",
       "      <td>30.0</td>\n",
       "      <td>0.0</td>\n",
       "      <td>0</td>\n",
       "      <td>1</td>\n",
       "      <td>0</td>\n",
       "      <td>225.0</td>\n",
       "      <td>150.0</td>\n",
       "      <td>95.0</td>\n",
       "      <td>28.58</td>\n",
       "      <td>65.0</td>\n",
       "      <td>103.0</td>\n",
       "      <td>1</td>\n",
       "    </tr>\n",
       "    <tr>\n",
       "      <th>4</th>\n",
       "      <td>0</td>\n",
       "      <td>46</td>\n",
       "      <td>3.0</td>\n",
       "      <td>1</td>\n",
       "      <td>23.0</td>\n",
       "      <td>0.0</td>\n",
       "      <td>0</td>\n",
       "      <td>0</td>\n",
       "      <td>0</td>\n",
       "      <td>285.0</td>\n",
       "      <td>130.0</td>\n",
       "      <td>84.0</td>\n",
       "      <td>23.10</td>\n",
       "      <td>85.0</td>\n",
       "      <td>85.0</td>\n",
       "      <td>0</td>\n",
       "    </tr>\n",
       "  </tbody>\n",
       "</table>\n",
       "</div>"
      ],
      "text/plain": [
       "   male  age  education  currentSmoker  cigsPerDay  BPMeds  prevalentStroke  \\\n",
       "0     1   39        4.0              0         0.0     0.0                0   \n",
       "1     0   46        2.0              0         0.0     0.0                0   \n",
       "2     1   48        1.0              1        20.0     0.0                0   \n",
       "3     0   61        3.0              1        30.0     0.0                0   \n",
       "4     0   46        3.0              1        23.0     0.0                0   \n",
       "\n",
       "   prevalentHyp  diabetes  totChol  sysBP  diaBP    BMI  heartRate  glucose  \\\n",
       "0             0         0    195.0  106.0   70.0  26.97       80.0     77.0   \n",
       "1             0         0    250.0  121.0   81.0  28.73       95.0     76.0   \n",
       "2             0         0    245.0  127.5   80.0  25.34       75.0     70.0   \n",
       "3             1         0    225.0  150.0   95.0  28.58       65.0    103.0   \n",
       "4             0         0    285.0  130.0   84.0  23.10       85.0     85.0   \n",
       "\n",
       "   TenYearCHD  \n",
       "0           0  \n",
       "1           0  \n",
       "2           0  \n",
       "3           1  \n",
       "4           0  "
      ]
     },
     "execution_count": 240,
     "metadata": {},
     "output_type": "execute_result"
    }
   ],
   "source": [
    "#Making a copy of the raw_csv_data\n",
    "df=raw_csv_data.copy()\n",
    "df.head()"
   ]
  },
  {
   "cell_type": "code",
   "execution_count": 118,
   "id": "894ccfbb",
   "metadata": {},
   "outputs": [],
   "source": [
    "#To convert Categorival to numerical - encoding\n",
    "#dfs['currentSmoker'].replace(['Non Smoker', 'Smoker'],\n",
    "#                        [0,1], inplace=True)\n"
   ]
  },
  {
   "cell_type": "markdown",
   "id": "63af45a6",
   "metadata": {},
   "source": [
    "# Data Cleaning"
   ]
  },
  {
   "cell_type": "code",
   "execution_count": 265,
   "id": "3a1e6f67",
   "metadata": {},
   "outputs": [
    {
     "data": {
      "text/plain": [
       "0"
      ]
     },
     "execution_count": 265,
     "metadata": {},
     "output_type": "execute_result"
    }
   ],
   "source": [
    "#Checking if there is any duplicate entry\n",
    "df.duplicated().sum()\n"
   ]
  },
  {
   "cell_type": "code",
   "execution_count": 241,
   "id": "5945d477",
   "metadata": {},
   "outputs": [
    {
     "data": {
      "text/plain": [
       "male                 0\n",
       "age                  0\n",
       "education          105\n",
       "currentSmoker        0\n",
       "cigsPerDay          29\n",
       "BPMeds              53\n",
       "prevalentStroke      0\n",
       "prevalentHyp         0\n",
       "diabetes             0\n",
       "totChol             50\n",
       "sysBP                0\n",
       "diaBP                0\n",
       "BMI                 19\n",
       "heartRate            1\n",
       "glucose            388\n",
       "TenYearCHD           0\n",
       "dtype: int64"
      ]
     },
     "execution_count": 241,
     "metadata": {},
     "output_type": "execute_result"
    }
   ],
   "source": [
    "#Checking number of null values\n",
    "df.isna().sum()*100/df.shape[0]\n",
    "df.isna().sum()"
   ]
  },
  {
   "cell_type": "code",
   "execution_count": 242,
   "id": "fcebe8bb",
   "metadata": {},
   "outputs": [
    {
     "data": {
      "text/plain": [
       "(4238, 16)"
      ]
     },
     "execution_count": 242,
     "metadata": {},
     "output_type": "execute_result"
    }
   ],
   "source": [
    "df.shape"
   ]
  },
  {
   "cell_type": "code",
   "execution_count": 243,
   "id": "aea3a4fd",
   "metadata": {},
   "outputs": [
    {
     "data": {
      "text/plain": [
       "male                 0\n",
       "age                  0\n",
       "education          101\n",
       "currentSmoker        0\n",
       "cigsPerDay           0\n",
       "BPMeds               0\n",
       "prevalentStroke      0\n",
       "prevalentHyp         0\n",
       "diabetes             0\n",
       "totChol              0\n",
       "sysBP                0\n",
       "diaBP                0\n",
       "BMI                  0\n",
       "heartRate            0\n",
       "glucose            339\n",
       "TenYearCHD           0\n",
       "dtype: int64"
      ]
     },
     "execution_count": 243,
     "metadata": {},
     "output_type": "execute_result"
    }
   ],
   "source": [
    "#We can drop the rows where cigsperday, BPmeds, totChol, BMI and heartrate have missing value\n",
    "#since total number or rows are above 4000(significantly large)\n",
    "\n",
    "df.dropna(subset=['cigsPerDay','BPMeds','totChol','BMI','heartRate'], inplace=True)\n",
    "df.isna().sum()"
   ]
  },
  {
   "cell_type": "code",
   "execution_count": 244,
   "id": "3d3269b2",
   "metadata": {},
   "outputs": [],
   "source": [
    "#Impute missing categorical variable by mode and missing numerical varibale by mean\n",
    "\n",
    "from sklearn.impute import SimpleImputer\n"
   ]
  },
  {
   "cell_type": "code",
   "execution_count": 246,
   "id": "bda65c19",
   "metadata": {},
   "outputs": [],
   "source": [
    "SI_mean = SimpleImputer(missing_values=np.nan, strategy='mean')\n",
    "SI_mode = SimpleImputer(missing_values=np.nan, strategy='most_frequent')"
   ]
  },
  {
   "cell_type": "code",
   "execution_count": 247,
   "id": "396e4557",
   "metadata": {},
   "outputs": [],
   "source": [
    "#Making a copy of the data\n",
    "SI_data = df.copy(deep=True)\n",
    "\n",
    "# Identify categorial columns and Impute them using mode.\n",
    "\n",
    "catgegorical_cols =['education']\n",
    "SI_data[catgegorical_cols] = SI_mode.fit_transform(SI_data[catgegorical_cols])"
   ]
  },
  {
   "cell_type": "markdown",
   "id": "f6a88955",
   "metadata": {},
   "source": [
    "<span style='color:red'> After filling missing values we should always check for variance, variance should not change much\n",
    "\n",
    "</span>"
   ]
  },
  {
   "cell_type": "code",
   "execution_count": 248,
   "id": "3942aadf",
   "metadata": {},
   "outputs": [
    {
     "name": "stdout",
     "output_type": "stream",
     "text": [
      "1.0418213181802343\n",
      "1.0393146112177543\n"
     ]
    }
   ],
   "source": [
    "print(df['education'].var())\n",
    "print(SI_data['education'].var())\n"
   ]
  },
  {
   "cell_type": "code",
   "execution_count": 249,
   "id": "51753c31",
   "metadata": {},
   "outputs": [],
   "source": [
    "# Identify Numerical Columns and Impute them using mean.\n",
    "\n",
    "numerical_cols = ['glucose']\n",
    "SI_data[numerical_cols] = SI_mean.fit_transform(SI_data[numerical_cols])"
   ]
  },
  {
   "cell_type": "code",
   "execution_count": 250,
   "id": "38e24af1",
   "metadata": {},
   "outputs": [
    {
     "name": "stdout",
     "output_type": "stream",
     "text": [
      "570.638427949339\n",
      "523.3062950707432\n"
     ]
    }
   ],
   "source": [
    "print(df['glucose'].var())\n",
    "print(SI_data['glucose'].var())"
   ]
  },
  {
   "cell_type": "code",
   "execution_count": 251,
   "id": "f8d19793",
   "metadata": {},
   "outputs": [
    {
     "data": {
      "text/plain": [
       "male               0\n",
       "age                0\n",
       "education          0\n",
       "currentSmoker      0\n",
       "cigsPerDay         0\n",
       "BPMeds             0\n",
       "prevalentStroke    0\n",
       "prevalentHyp       0\n",
       "diabetes           0\n",
       "totChol            0\n",
       "sysBP              0\n",
       "diaBP              0\n",
       "BMI                0\n",
       "heartRate          0\n",
       "glucose            0\n",
       "TenYearCHD         0\n",
       "dtype: int64"
      ]
     },
     "execution_count": 251,
     "metadata": {},
     "output_type": "execute_result"
    }
   ],
   "source": [
    "SI_data.isna().sum()\n",
    "#SI_data.head(13)"
   ]
  },
  {
   "cell_type": "markdown",
   "id": "4811f5cf",
   "metadata": {},
   "source": [
    "# Detecting Outliers"
   ]
  },
  {
   "cell_type": "code",
   "execution_count": 252,
   "id": "eb7e6007",
   "metadata": {},
   "outputs": [
    {
     "name": "stderr",
     "output_type": "stream",
     "text": [
      "C:\\Users\\cyril\\anaconda3\\lib\\site-packages\\seaborn\\_decorators.py:36: FutureWarning: Pass the following variable as a keyword arg: x. From version 0.12, the only valid positional argument will be `data`, and passing other arguments without an explicit keyword will result in an error or misinterpretation.\n",
      "  warnings.warn(\n",
      "C:\\Users\\cyril\\anaconda3\\lib\\site-packages\\seaborn\\_decorators.py:36: FutureWarning: Pass the following variable as a keyword arg: x. From version 0.12, the only valid positional argument will be `data`, and passing other arguments without an explicit keyword will result in an error or misinterpretation.\n",
      "  warnings.warn(\n",
      "C:\\Users\\cyril\\anaconda3\\lib\\site-packages\\seaborn\\_decorators.py:36: FutureWarning: Pass the following variable as a keyword arg: x. From version 0.12, the only valid positional argument will be `data`, and passing other arguments without an explicit keyword will result in an error or misinterpretation.\n",
      "  warnings.warn(\n",
      "C:\\Users\\cyril\\anaconda3\\lib\\site-packages\\seaborn\\_decorators.py:36: FutureWarning: Pass the following variable as a keyword arg: x. From version 0.12, the only valid positional argument will be `data`, and passing other arguments without an explicit keyword will result in an error or misinterpretation.\n",
      "  warnings.warn(\n",
      "C:\\Users\\cyril\\anaconda3\\lib\\site-packages\\seaborn\\_decorators.py:36: FutureWarning: Pass the following variable as a keyword arg: x. From version 0.12, the only valid positional argument will be `data`, and passing other arguments without an explicit keyword will result in an error or misinterpretation.\n",
      "  warnings.warn(\n",
      "C:\\Users\\cyril\\anaconda3\\lib\\site-packages\\seaborn\\_decorators.py:36: FutureWarning: Pass the following variable as a keyword arg: x. From version 0.12, the only valid positional argument will be `data`, and passing other arguments without an explicit keyword will result in an error or misinterpretation.\n",
      "  warnings.warn(\n",
      "C:\\Users\\cyril\\anaconda3\\lib\\site-packages\\seaborn\\_decorators.py:36: FutureWarning: Pass the following variable as a keyword arg: x. From version 0.12, the only valid positional argument will be `data`, and passing other arguments without an explicit keyword will result in an error or misinterpretation.\n",
      "  warnings.warn(\n",
      "C:\\Users\\cyril\\anaconda3\\lib\\site-packages\\seaborn\\_decorators.py:36: FutureWarning: Pass the following variable as a keyword arg: x. From version 0.12, the only valid positional argument will be `data`, and passing other arguments without an explicit keyword will result in an error or misinterpretation.\n",
      "  warnings.warn(\n"
     ]
    },
    {
     "data": {
      "image/png": "[encoded data removed]",
      "text/plain": [
       "<Figure size 720x360 with 8 Axes>"
      ]
     },
     "metadata": {
      "needs_background": "light"
     },
     "output_type": "display_data"
    }
   ],
   "source": [
    "#Checking outliers\n",
    "\n",
    "fig, axs = plt.subplots(4,2, figsize = (10,5))\n",
    "plt1 = sns.boxplot(SI_data['age'], ax = axs[0,0])\n",
    "plt2 = sns.boxplot(SI_data['cigsPerDay'], ax = axs[0,1])\n",
    "plt3 = sns.boxplot(SI_data['totChol'], ax = axs[1,0])\n",
    "plt1 = sns.boxplot(SI_data['sysBP'], ax = axs[1,1])\n",
    "plt2 = sns.boxplot(SI_data['diaBP'], ax = axs[2,0])\n",
    "plt3 = sns.boxplot(SI_data['BMI'], ax = axs[2,1])\n",
    "plt3 = sns.boxplot(SI_data['heartRate'], ax = axs[3,0])\n",
    "plt3 = sns.boxplot(SI_data['glucose'], ax = axs[3,1])\n",
    "\n",
    "\n",
    "plt.tight_layout()"
   ]
  },
  {
   "cell_type": "markdown",
   "id": "329797b7",
   "metadata": {},
   "source": [
    "# Counting Outliers"
   ]
  },
  {
   "cell_type": "code",
   "execution_count": 253,
   "id": "f943ae26",
   "metadata": {},
   "outputs": [],
   "source": [
    "#Function to count the number of outliers\n",
    "\n",
    "def count_outliers(dataframe, column):\n",
    "    percentile25 = dataframe[column].quantile(0.25)\n",
    "    percentile75 = dataframe[column].quantile(0.75)\n",
    "    iqr = percentile75-percentile25\n",
    "    \n",
    "    upper_limit = percentile75 + (1.5 * iqr)\n",
    "    lower_limit = percentile25 - (1.5 * iqr)\n",
    "    outlier_count = ((dataframe[column]< lower_limit) | (dataframe[column]> upper_limit)).sum()\n",
    "    print(column,':',outlier_count)\n",
    "    "
   ]
  },
  {
   "cell_type": "code",
   "execution_count": 222,
   "id": "dccabbe6",
   "metadata": {},
   "outputs": [
    {
     "name": "stdout",
     "output_type": "stream",
     "text": [
      "Number of otliers in each numerical colomns: \n",
      "\n",
      "age : 0\n",
      "cigsPerDay : 12\n",
      "totChol : 51\n",
      "sysBP : 122\n",
      "diaBP : 81\n",
      "BMI : 92\n",
      "heartRate : 76\n",
      "glucose : 254\n"
     ]
    }
   ],
   "source": [
    "Numerical_cols = ['age','cigsPerDay','totChol','sysBP','diaBP','BMI','heartRate','glucose']\n",
    "\n",
    "print('Number of otliers in each numerical colomns:','\\n')\n",
    "for col in Numerical_cols:\n",
    "     count_outliers(SI_data, col)"
   ]
  },
  {
   "cell_type": "markdown",
   "id": "09763688",
   "metadata": {},
   "source": [
    "# Removing Outliers"
   ]
  },
  {
   "cell_type": "code",
   "execution_count": 254,
   "id": "1f8cd523",
   "metadata": {},
   "outputs": [],
   "source": [
    "# Function to remove the outliers \n",
    "\n",
    "def remove_outliers(dataframe, column):\n",
    "    percentile25 = dataframe[column].quantile(0.25)\n",
    "    percentile75 = dataframe[column].quantile(0.75)\n",
    "    iqr = percentile75-percentile25\n",
    "    print(iqr)\n",
    "    upper_limit = percentile75 + (1.5 * iqr)\n",
    "    lower_limit = percentile25 - (1.5 * iqr)\n",
    "    outlier_free = (dataframe[column]> lower_limit) & (dataframe[column] < upper_limit)\n",
    "    #print(bool_array)\n",
    "    dataframe = dataframe[outlier_free]\n",
    "    return dataframe\n"
   ]
  },
  {
   "cell_type": "code",
   "execution_count": 255,
   "id": "7ee7b61e",
   "metadata": {},
   "outputs": [
    {
     "name": "stdout",
     "output_type": "stream",
     "text": [
      "20.0\n",
      "57.0\n",
      "26.0\n",
      "14.0\n",
      "4.929999999999996\n",
      "15.0\n",
      "13.0\n"
     ]
    }
   ],
   "source": [
    "for col in Numerical_cols:\n",
    "    SI_data = remove_outliers(SI_data, col)"
   ]
  },
  {
   "cell_type": "code",
   "execution_count": 256,
   "id": "f40c1a15",
   "metadata": {},
   "outputs": [
    {
     "name": "stderr",
     "output_type": "stream",
     "text": [
      "C:\\Users\\cyril\\anaconda3\\lib\\site-packages\\seaborn\\_decorators.py:36: FutureWarning: Pass the following variable as a keyword arg: x. From version 0.12, the only valid positional argument will be `data`, and passing other arguments without an explicit keyword will result in an error or misinterpretation.\n",
      "  warnings.warn(\n",
      "C:\\Users\\cyril\\anaconda3\\lib\\site-packages\\seaborn\\_decorators.py:36: FutureWarning: Pass the following variable as a keyword arg: x. From version 0.12, the only valid positional argument will be `data`, and passing other arguments without an explicit keyword will result in an error or misinterpretation.\n",
      "  warnings.warn(\n",
      "C:\\Users\\cyril\\anaconda3\\lib\\site-packages\\seaborn\\_decorators.py:36: FutureWarning: Pass the following variable as a keyword arg: x. From version 0.12, the only valid positional argument will be `data`, and passing other arguments without an explicit keyword will result in an error or misinterpretation.\n",
      "  warnings.warn(\n",
      "C:\\Users\\cyril\\anaconda3\\lib\\site-packages\\seaborn\\_decorators.py:36: FutureWarning: Pass the following variable as a keyword arg: x. From version 0.12, the only valid positional argument will be `data`, and passing other arguments without an explicit keyword will result in an error or misinterpretation.\n",
      "  warnings.warn(\n",
      "C:\\Users\\cyril\\anaconda3\\lib\\site-packages\\seaborn\\_decorators.py:36: FutureWarning: Pass the following variable as a keyword arg: x. From version 0.12, the only valid positional argument will be `data`, and passing other arguments without an explicit keyword will result in an error or misinterpretation.\n",
      "  warnings.warn(\n",
      "C:\\Users\\cyril\\anaconda3\\lib\\site-packages\\seaborn\\_decorators.py:36: FutureWarning: Pass the following variable as a keyword arg: x. From version 0.12, the only valid positional argument will be `data`, and passing other arguments without an explicit keyword will result in an error or misinterpretation.\n",
      "  warnings.warn(\n",
      "C:\\Users\\cyril\\anaconda3\\lib\\site-packages\\seaborn\\_decorators.py:36: FutureWarning: Pass the following variable as a keyword arg: x. From version 0.12, the only valid positional argument will be `data`, and passing other arguments without an explicit keyword will result in an error or misinterpretation.\n",
      "  warnings.warn(\n",
      "C:\\Users\\cyril\\anaconda3\\lib\\site-packages\\seaborn\\_decorators.py:36: FutureWarning: Pass the following variable as a keyword arg: x. From version 0.12, the only valid positional argument will be `data`, and passing other arguments without an explicit keyword will result in an error or misinterpretation.\n",
      "  warnings.warn(\n"
     ]
    },
    {
     "data": {
      "image/png": "[encoded data removed]",
      "text/plain": [
       "<Figure size 720x360 with 8 Axes>"
      ]
     },
     "metadata": {
      "needs_background": "light"
     },
     "output_type": "display_data"
    }
   ],
   "source": [
    "#Checking outliers\n",
    "\n",
    "fig, axs = plt.subplots(4,2, figsize = (10,5))\n",
    "plt1 = sns.boxplot(SI_data['age'], ax = axs[0,0])\n",
    "plt2 = sns.boxplot(SI_data['cigsPerDay'], ax = axs[0,1])\n",
    "plt3 = sns.boxplot(SI_data['totChol'], ax = axs[1,0])\n",
    "plt1 = sns.boxplot(SI_data['sysBP'], ax = axs[1,1])\n",
    "plt2 = sns.boxplot(SI_data['diaBP'], ax = axs[2,0])\n",
    "plt3 = sns.boxplot(SI_data['BMI'], ax = axs[2,1])\n",
    "plt3 = sns.boxplot(SI_data['heartRate'], ax = axs[3,0])\n",
    "plt3 = sns.boxplot(SI_data['glucose'], ax = axs[3,1])\n",
    "\n",
    "\n",
    "plt.tight_layout()"
   ]
  },
  {
   "cell_type": "code",
   "execution_count": 257,
   "id": "59001519",
   "metadata": {},
   "outputs": [
    {
     "name": "stdout",
     "output_type": "stream",
     "text": [
      "Number of otliers in each numerical colomns: \n",
      "\n",
      "cigsPerDay : 0\n",
      "totChol : 11\n",
      "sysBP : 40\n",
      "diaBP : 0\n",
      "BMI : 18\n",
      "heartRate : 87\n",
      "glucose : 42\n"
     ]
    }
   ],
   "source": [
    "Numerical_cols = ['cigsPerDay','totChol','sysBP','diaBP','BMI','heartRate','glucose']\n",
    "\n",
    "print('Number of otliers in each numerical colomns:','\\n')\n",
    "for col in Numerical_cols:\n",
    "     count_outliers(SI_data, col)"
   ]
  },
  {
   "cell_type": "code",
   "execution_count": 258,
   "id": "5401e5b0",
   "metadata": {},
   "outputs": [
    {
     "data": {
      "text/plain": [
       "(3472, 16)"
      ]
     },
     "execution_count": 258,
     "metadata": {},
     "output_type": "execute_result"
    }
   ],
   "source": [
    "SI_data.shape"
   ]
  },
  {
   "cell_type": "markdown",
   "id": "738e0b92",
   "metadata": {},
   "source": [
    "# Visualization"
   ]
  },
  {
   "cell_type": "code",
   "execution_count": 269,
   "id": "2b30e3ae",
   "metadata": {},
   "outputs": [
    {
     "data": {
      "text/plain": [
       "(array([-50.,   0.,  50., 100., 150., 200., 250., 300.]),\n",
       " [Text(0, 0, ''),\n",
       "  Text(0, 0, ''),\n",
       "  Text(0, 0, ''),\n",
       "  Text(0, 0, ''),\n",
       "  Text(0, 0, ''),\n",
       "  Text(0, 0, ''),\n",
       "  Text(0, 0, ''),\n",
       "  Text(0, 0, '')])"
      ]
     },
     "execution_count": 269,
     "metadata": {},
     "output_type": "execute_result"
    },
    {
     "data": {
      "image/png": "[encoded data removed]",
      "text/plain": [
       "<Figure size 864x576 with 1 Axes>"
      ]
     },
     "metadata": {
      "needs_background": "light"
     },
     "output_type": "display_data"
    }
   ],
   "source": [
    "#Plotting a linegraph to check the relationship between age and cigsPerDay, totChol, glucose.\n",
    "\n",
    "graph_1 = SI_data.groupby(\"age\").cigsPerDay.mean()\n",
    "graph_2 = SI_data.groupby(\"age\").totChol.mean()\n",
    "graph_3 = SI_data.groupby(\"age\").glucose.mean()\n",
    "\n",
    "plt.figure(figsize=(12,8))\n",
    "sns.lineplot(data=graph_1, label=\"cigsPerDay\")\n",
    "sns.lineplot(data=graph_2, label=\"totChol\")\n",
    "sns.lineplot(data=graph_3, label=\"glucose\")\n",
    "plt.title(\"Graph showing totChol, glucose and cigsPerDay in every age group.\")\n",
    "plt.xlabel(\"age\", size=20)\n",
    "plt.ylabel(\"count\", size=20)\n",
    "plt.xticks(size=12)\n",
    "plt.yticks(size=12)"
   ]
  },
  {
   "cell_type": "code",
   "execution_count": 273,
   "id": "c5244b9d",
   "metadata": {},
   "outputs": [
    {
     "data": {
      "text/html": [
       "<div>\n",
       "<style scoped>\n",
       "    .dataframe tbody tr th:only-of-type {\n",
       "        vertical-align: middle;\n",
       "    }\n",
       "\n",
       "    .dataframe tbody tr th {\n",
       "        vertical-align: top;\n",
       "    }\n",
       "\n",
       "    .dataframe thead th {\n",
       "        text-align: right;\n",
       "    }\n",
       "</style>\n",
       "<table border=\"1\" class=\"dataframe\">\n",
       "  <thead>\n",
       "    <tr style=\"text-align: right;\">\n",
       "      <th></th>\n",
       "      <th>male</th>\n",
       "      <th>TenYearCHD</th>\n",
       "    </tr>\n",
       "  </thead>\n",
       "  <tbody>\n",
       "    <tr>\n",
       "      <th>0</th>\n",
       "      <td>0</td>\n",
       "      <td>186</td>\n",
       "    </tr>\n",
       "    <tr>\n",
       "      <th>1</th>\n",
       "      <td>1</td>\n",
       "      <td>261</td>\n",
       "    </tr>\n",
       "  </tbody>\n",
       "</table>\n",
       "</div>"
      ],
      "text/plain": [
       "   male  TenYearCHD\n",
       "0     0         186\n",
       "1     1         261"
      ]
     },
     "execution_count": 273,
     "metadata": {},
     "output_type": "execute_result"
    }
   ],
   "source": [
    "#checking for which gender has more risk of coronary heart disease CHD\n",
    "\n",
    "graph_6 = SI_data.groupby(\"male\", as_index=False).TenYearCHD.sum()\n",
    "graph_6\n"
   ]
  },
  {
   "cell_type": "code",
   "execution_count": 274,
   "id": "f0547e0f",
   "metadata": {},
   "outputs": [
    {
     "data": {
      "text/plain": [
       "(array([  0.,  50., 100., 150., 200., 250., 300.]),\n",
       " [Text(0, 0, ''),\n",
       "  Text(0, 0, ''),\n",
       "  Text(0, 0, ''),\n",
       "  Text(0, 0, ''),\n",
       "  Text(0, 0, ''),\n",
       "  Text(0, 0, ''),\n",
       "  Text(0, 0, '')])"
      ]
     },
     "execution_count": 274,
     "metadata": {},
     "output_type": "execute_result"
    },
    {
     "data": {
      "image/png": "[encoded data removed]",
      "text/plain": [
       "<Figure size 864x576 with 1 Axes>"
      ]
     },
     "metadata": {
      "needs_background": "light"
     },
     "output_type": "display_data"
    }
   ],
   "source": [
    "#Ploting the above values\n",
    "\n",
    "plt.figure(figsize=(12,8))\n",
    "sns.barplot(x=graph_6[\"male\"], y=graph_6[\"TenYearCHD\"])\n",
    "plt.title(\"Graph showing which gender has more risk of coronary heart disease CHD\")\n",
    "plt.xlabel(\"0 is female and 1 is male\",size=20)\n",
    "plt.ylabel(\"total cases\", size=20)\n",
    "plt.xticks(size=12)\n",
    "plt.yticks(size=12)"
   ]
  },
  {
   "cell_type": "markdown",
   "id": "04259d94",
   "metadata": {},
   "source": [
    "\n",
    "**We observe males have higher risk of developing a heart disease**"
   ]
  },
  {
   "cell_type": "code",
   "execution_count": 393,
   "id": "b1803e92",
   "metadata": {},
   "outputs": [
    {
     "data": {
      "text/html": [
       "<div>\n",
       "<style scoped>\n",
       "    .dataframe tbody tr th:only-of-type {\n",
       "        vertical-align: middle;\n",
       "    }\n",
       "\n",
       "    .dataframe tbody tr th {\n",
       "        vertical-align: top;\n",
       "    }\n",
       "\n",
       "    .dataframe thead th {\n",
       "        text-align: right;\n",
       "    }\n",
       "</style>\n",
       "<table border=\"1\" class=\"dataframe\">\n",
       "  <thead>\n",
       "    <tr style=\"text-align: right;\">\n",
       "      <th></th>\n",
       "      <th>age</th>\n",
       "      <th>currentSmoker</th>\n",
       "    </tr>\n",
       "  </thead>\n",
       "  <tbody>\n",
       "    <tr>\n",
       "      <th>0</th>\n",
       "      <td>32</td>\n",
       "      <td>1</td>\n",
       "    </tr>\n",
       "    <tr>\n",
       "      <th>1</th>\n",
       "      <td>33</td>\n",
       "      <td>2</td>\n",
       "    </tr>\n",
       "    <tr>\n",
       "      <th>2</th>\n",
       "      <td>34</td>\n",
       "      <td>10</td>\n",
       "    </tr>\n",
       "    <tr>\n",
       "      <th>3</th>\n",
       "      <td>35</td>\n",
       "      <td>22</td>\n",
       "    </tr>\n",
       "    <tr>\n",
       "      <th>4</th>\n",
       "      <td>36</td>\n",
       "      <td>45</td>\n",
       "    </tr>\n",
       "    <tr>\n",
       "      <th>5</th>\n",
       "      <td>37</td>\n",
       "      <td>48</td>\n",
       "    </tr>\n",
       "    <tr>\n",
       "      <th>6</th>\n",
       "      <td>38</td>\n",
       "      <td>75</td>\n",
       "    </tr>\n",
       "    <tr>\n",
       "      <th>7</th>\n",
       "      <td>39</td>\n",
       "      <td>83</td>\n",
       "    </tr>\n",
       "    <tr>\n",
       "      <th>8</th>\n",
       "      <td>40</td>\n",
       "      <td>113</td>\n",
       "    </tr>\n",
       "    <tr>\n",
       "      <th>9</th>\n",
       "      <td>41</td>\n",
       "      <td>88</td>\n",
       "    </tr>\n",
       "    <tr>\n",
       "      <th>10</th>\n",
       "      <td>42</td>\n",
       "      <td>93</td>\n",
       "    </tr>\n",
       "    <tr>\n",
       "      <th>11</th>\n",
       "      <td>43</td>\n",
       "      <td>88</td>\n",
       "    </tr>\n",
       "    <tr>\n",
       "      <th>12</th>\n",
       "      <td>44</td>\n",
       "      <td>92</td>\n",
       "    </tr>\n",
       "    <tr>\n",
       "      <th>13</th>\n",
       "      <td>45</td>\n",
       "      <td>81</td>\n",
       "    </tr>\n",
       "    <tr>\n",
       "      <th>14</th>\n",
       "      <td>46</td>\n",
       "      <td>91</td>\n",
       "    </tr>\n",
       "    <tr>\n",
       "      <th>15</th>\n",
       "      <td>47</td>\n",
       "      <td>68</td>\n",
       "    </tr>\n",
       "    <tr>\n",
       "      <th>16</th>\n",
       "      <td>48</td>\n",
       "      <td>71</td>\n",
       "    </tr>\n",
       "    <tr>\n",
       "      <th>17</th>\n",
       "      <td>49</td>\n",
       "      <td>58</td>\n",
       "    </tr>\n",
       "    <tr>\n",
       "      <th>18</th>\n",
       "      <td>50</td>\n",
       "      <td>58</td>\n",
       "    </tr>\n",
       "    <tr>\n",
       "      <th>19</th>\n",
       "      <td>51</td>\n",
       "      <td>66</td>\n",
       "    </tr>\n",
       "    <tr>\n",
       "      <th>20</th>\n",
       "      <td>52</td>\n",
       "      <td>42</td>\n",
       "    </tr>\n",
       "    <tr>\n",
       "      <th>21</th>\n",
       "      <td>53</td>\n",
       "      <td>50</td>\n",
       "    </tr>\n",
       "    <tr>\n",
       "      <th>22</th>\n",
       "      <td>54</td>\n",
       "      <td>44</td>\n",
       "    </tr>\n",
       "    <tr>\n",
       "      <th>23</th>\n",
       "      <td>55</td>\n",
       "      <td>37</td>\n",
       "    </tr>\n",
       "    <tr>\n",
       "      <th>24</th>\n",
       "      <td>56</td>\n",
       "      <td>40</td>\n",
       "    </tr>\n",
       "    <tr>\n",
       "      <th>25</th>\n",
       "      <td>57</td>\n",
       "      <td>38</td>\n",
       "    </tr>\n",
       "    <tr>\n",
       "      <th>26</th>\n",
       "      <td>58</td>\n",
       "      <td>41</td>\n",
       "    </tr>\n",
       "    <tr>\n",
       "      <th>27</th>\n",
       "      <td>59</td>\n",
       "      <td>29</td>\n",
       "    </tr>\n",
       "    <tr>\n",
       "      <th>28</th>\n",
       "      <td>60</td>\n",
       "      <td>29</td>\n",
       "    </tr>\n",
       "    <tr>\n",
       "      <th>29</th>\n",
       "      <td>61</td>\n",
       "      <td>27</td>\n",
       "    </tr>\n",
       "    <tr>\n",
       "      <th>30</th>\n",
       "      <td>62</td>\n",
       "      <td>23</td>\n",
       "    </tr>\n",
       "    <tr>\n",
       "      <th>31</th>\n",
       "      <td>63</td>\n",
       "      <td>23</td>\n",
       "    </tr>\n",
       "    <tr>\n",
       "      <th>32</th>\n",
       "      <td>64</td>\n",
       "      <td>19</td>\n",
       "    </tr>\n",
       "    <tr>\n",
       "      <th>33</th>\n",
       "      <td>65</td>\n",
       "      <td>9</td>\n",
       "    </tr>\n",
       "    <tr>\n",
       "      <th>34</th>\n",
       "      <td>66</td>\n",
       "      <td>7</td>\n",
       "    </tr>\n",
       "    <tr>\n",
       "      <th>35</th>\n",
       "      <td>67</td>\n",
       "      <td>9</td>\n",
       "    </tr>\n",
       "    <tr>\n",
       "      <th>36</th>\n",
       "      <td>68</td>\n",
       "      <td>5</td>\n",
       "    </tr>\n",
       "    <tr>\n",
       "      <th>37</th>\n",
       "      <td>69</td>\n",
       "      <td>3</td>\n",
       "    </tr>\n",
       "    <tr>\n",
       "      <th>38</th>\n",
       "      <td>70</td>\n",
       "      <td>0</td>\n",
       "    </tr>\n",
       "  </tbody>\n",
       "</table>\n",
       "</div>"
      ],
      "text/plain": [
       "    age  currentSmoker\n",
       "0    32              1\n",
       "1    33              2\n",
       "2    34             10\n",
       "3    35             22\n",
       "4    36             45\n",
       "5    37             48\n",
       "6    38             75\n",
       "7    39             83\n",
       "8    40            113\n",
       "9    41             88\n",
       "10   42             93\n",
       "11   43             88\n",
       "12   44             92\n",
       "13   45             81\n",
       "14   46             91\n",
       "15   47             68\n",
       "16   48             71\n",
       "17   49             58\n",
       "18   50             58\n",
       "19   51             66\n",
       "20   52             42\n",
       "21   53             50\n",
       "22   54             44\n",
       "23   55             37\n",
       "24   56             40\n",
       "25   57             38\n",
       "26   58             41\n",
       "27   59             29\n",
       "28   60             29\n",
       "29   61             27\n",
       "30   62             23\n",
       "31   63             23\n",
       "32   64             19\n",
       "33   65              9\n",
       "34   66              7\n",
       "35   67              9\n",
       "36   68              5\n",
       "37   69              3\n",
       "38   70              0"
      ]
     },
     "execution_count": 393,
     "metadata": {},
     "output_type": "execute_result"
    }
   ],
   "source": [
    "#grouping the necessary features\n",
    "\n",
    "graph_7 = SI_data.groupby(\"age\",as_index=False).currentSmoker.sum()\n",
    "graph_7"
   ]
  },
  {
   "cell_type": "code",
   "execution_count": 395,
   "id": "1cc9a012",
   "metadata": {},
   "outputs": [
    {
     "data": {
      "image/png": "[encoded data removed]",
      "text/plain": [
       "<Figure size 864x576 with 1 Axes>"
      ]
     },
     "metadata": {
      "needs_background": "light"
     },
     "output_type": "display_data"
    }
   ],
   "source": [
    "#Ploting the above values\n",
    "\n",
    "plt.figure(figsize=(12,8))\n",
    "sns.barplot(x=graph_7[\"age\"], y=graph_7[\"currentSmoker\"])\n",
    "plt.title(\"Graph showing which age group has more smokers.\")\n",
    "plt.xlabel(\"age\", size=20)\n",
    "plt.ylabel(\"currentSmokers\", size=20)\n",
    "plt.xticks(size=12)\n",
    "plt.yticks(size=12)\n",
    "\n",
    "plt.title?"
   ]
  },
  {
   "cell_type": "code",
   "execution_count": 279,
   "id": "a7e7bb3f",
   "metadata": {},
   "outputs": [
    {
     "data": {
      "text/plain": [
       "(array([ 0.,  2.,  4.,  6.,  8., 10., 12.]),\n",
       " [Text(0, 0, ''),\n",
       "  Text(0, 0, ''),\n",
       "  Text(0, 0, ''),\n",
       "  Text(0, 0, ''),\n",
       "  Text(0, 0, ''),\n",
       "  Text(0, 0, ''),\n",
       "  Text(0, 0, '')])"
      ]
     },
     "execution_count": 279,
     "metadata": {},
     "output_type": "execute_result"
    },
    {
     "data": {
      "image/png": "[encoded data removed]",
      "text/plain": [
       "<Figure size 864x576 with 1 Axes>"
      ]
     },
     "metadata": {
      "needs_background": "light"
     },
     "output_type": "display_data"
    }
   ],
   "source": [
    "#Relation between cigsPerDay and risk of coronary heart disease.\n",
    "\n",
    "\n",
    "\n",
    "graph_7 = SI_data.groupby(\"TenYearCHD\", as_index=False).cigsPerDay.mean()\n",
    "\n",
    "plt.figure(figsize=(12,8))\n",
    "sns.barplot(x=graph_7[\"TenYearCHD\"], y=graph_7[\"cigsPerDay\"])\n",
    "plt.title(\"Graph showing the relation between cigsPerDay and risk of coronary heart disease.\")\n",
    "plt.xlabel(\"Rick of CHD\", size=20)\n",
    "plt.ylabel(\"cigsPerDay\", size=20)\n",
    "plt.xticks(size=12)\n",
    "plt.yticks(size=12)"
   ]
  },
  {
   "cell_type": "code",
   "execution_count": 267,
   "id": "d224aa21",
   "metadata": {},
   "outputs": [
    {
     "data": {
      "text/plain": [
       "male                10.951349\n",
       "age                 21.491583\n",
       "education           -4.727712\n",
       "currentSmoker        3.875060\n",
       "cigsPerDay           7.651697\n",
       "BPMeds               4.496514\n",
       "prevalentStroke      5.002911\n",
       "prevalentHyp        13.339499\n",
       "diabetes            -0.380074\n",
       "totChol              5.778906\n",
       "sysBP               16.364718\n",
       "diaBP                8.763162\n",
       "BMI                  5.543735\n",
       "heartRate            0.529970\n",
       "glucose              0.372220\n",
       "TenYearCHD         100.000000\n",
       "dtype: float64"
      ]
     },
     "execution_count": 267,
     "metadata": {},
     "output_type": "execute_result"
    }
   ],
   "source": [
    "#Checking correlation with the target variable\n",
    "SI_data.corrwith(SI_data['TenYearCHD'])*100"
   ]
  },
  {
   "cell_type": "code",
   "execution_count": 268,
   "id": "788a634f",
   "metadata": {},
   "outputs": [
    {
     "data": {
      "text/plain": [
       "<AxesSubplot:>"
      ]
     },
     "execution_count": 268,
     "metadata": {},
     "output_type": "execute_result"
    },
    {
     "data": {
      "image/png": "[encoded data removed]",
      "text/plain": [
       "<Figure size 432x288 with 1 Axes>"
      ]
     },
     "metadata": {
      "needs_background": "light"
     },
     "output_type": "display_data"
    }
   ],
   "source": [
    "#Plotting the correlation\n",
    "(SI_data.corrwith(SI_data['TenYearCHD'])*100).plot(kind='bar')"
   ]
  },
  {
   "cell_type": "markdown",
   "id": "bcd44487",
   "metadata": {},
   "source": [
    "# Model Building"
   ]
  },
  {
   "cell_type": "code",
   "execution_count": 364,
   "id": "96087f58",
   "metadata": {},
   "outputs": [],
   "source": [
    "SI_data_mod = SI_data.copy(deep=True)"
   ]
  },
  {
   "cell_type": "code",
   "execution_count": 365,
   "id": "4636919f",
   "metadata": {},
   "outputs": [],
   "source": [
    "#use only select features\n",
    "\n",
    "predictors=['male','age','prevalentHyp','sysBP','diaBP','cigsPerDay']\n",
    "xdata=SI_data_mod[predictors]\n",
    "ydata=SI_data_mod['TenYearCHD']"
   ]
  },
  {
   "cell_type": "code",
   "execution_count": 366,
   "id": "2810bdd7",
   "metadata": {},
   "outputs": [],
   "source": [
    "from sklearn.model_selection import train_test_split\n",
    "X_train, X_test, y_train, y_test = train_test_split(xdata, ydata, random_state=100, test_size=0.25, stratify=ydata)"
   ]
  },
  {
   "cell_type": "code",
   "execution_count": 367,
   "id": "97c0f4b0",
   "metadata": {},
   "outputs": [],
   "source": [
    "from sklearn.linear_model import LogisticRegression\n",
    "logreg = LogisticRegression()\n",
    "logreg.fit(X_train, y_train)\n",
    "yprediction=logreg.predict(X_test)"
   ]
  },
  {
   "cell_type": "code",
   "execution_count": 368,
   "id": "0b19561c",
   "metadata": {},
   "outputs": [
    {
     "name": "stdout",
     "output_type": "stream",
     "text": [
      "Accuracy= 0.8732718894009217\n"
     ]
    }
   ],
   "source": [
    "from sklearn.metrics import accuracy_score\n",
    "\n",
    "print(\"Accuracy=\", accuracy_score( y_test,yprediction))"
   ]
  },
  {
   "cell_type": "code",
   "execution_count": 369,
   "id": "a8d5cca7",
   "metadata": {},
   "outputs": [
    {
     "data": {
      "text/plain": [
       "0    756\n",
       "1    112\n",
       "Name: TenYearCHD, dtype: int64"
      ]
     },
     "execution_count": 369,
     "metadata": {},
     "output_type": "execute_result"
    }
   ],
   "source": [
    "\n",
    "y_test.value_counts()"
   ]
  },
  {
   "cell_type": "code",
   "execution_count": 370,
   "id": "422c8834",
   "metadata": {},
   "outputs": [
    {
     "name": "stdout",
     "output_type": "stream",
     "text": [
      "[[755   1]\n",
      " [109   3]]\n"
     ]
    }
   ],
   "source": [
    "#confusion Matrix\n",
    "# IMPORTANT: first argument is actual values, second argument is predicted values\n",
    "from sklearn import metrics\n",
    "confusionmatrix=metrics.confusion_matrix(y_test,yprediction)\n",
    "print(confusionmatrix)\n",
    "TN=confusionmatrix[0,0]\n",
    "FP=confusionmatrix[0,1]\n",
    "FN=confusionmatrix[1,0]\n",
    "TP=confusionmatrix[1,1]"
   ]
  },
  {
   "cell_type": "code",
   "execution_count": 371,
   "id": "48979b28",
   "metadata": {},
   "outputs": [
    {
     "name": "stdout",
     "output_type": "stream",
     "text": [
      "True Positive cases= 3\n",
      "True Negative cases= 755\n",
      "False Positive cases= 1\n",
      "False Negative cases= 109\n",
      "Total positive cases= 112\n",
      "Total negative cases= 756\n"
     ]
    }
   ],
   "source": [
    "print(\"True Positive cases=\",TP)\n",
    "print(\"True Negative cases=\",TN)\n",
    "print(\"False Positive cases=\",FP)\n",
    "print(\"False Negative cases=\",FN)\n",
    "Total_Positive_Cases=FN+TP\n",
    "print(\"Total positive cases=\",Total_Positive_Cases)\n",
    "Total_Negative_Cases=FP+TN\n",
    "print(\"Total negative cases=\",Total_Negative_Cases)"
   ]
  },
  {
   "cell_type": "code",
   "execution_count": 372,
   "id": "a0ef8751",
   "metadata": {},
   "outputs": [
    {
     "name": "stdout",
     "output_type": "stream",
     "text": [
      "accuracy= 0.8732718894009217\n",
      "accuracy= 0.8732718894009217\n"
     ]
    }
   ],
   "source": [
    "accuracy=(TP+TN)/(TP+TN+FP+FN)\n",
    "print(\"accuracy=\",accuracy)\n",
    "print(\"accuracy=\",accuracy_score(y_test, yprediction))"
   ]
  },
  {
   "cell_type": "code",
   "execution_count": 374,
   "id": "b0640c37",
   "metadata": {},
   "outputs": [
    {
     "name": "stdout",
     "output_type": "stream",
     "text": [
      "sensitivity= 0.026785714285714284\n"
     ]
    }
   ],
   "source": [
    "sensitivity=TP/Total_Positive_Cases\n",
    "print(\"sensitivity=\",sensitivity)"
   ]
  },
  {
   "cell_type": "code",
   "execution_count": 377,
   "id": "ec916a7d",
   "metadata": {},
   "outputs": [
    {
     "name": "stdout",
     "output_type": "stream",
     "text": [
      "specificity= 0.9986772486772487\n"
     ]
    }
   ],
   "source": [
    "specificity=TN/Total_Negative_Cases\n",
    "print(\"specificity=\",specificity)"
   ]
  },
  {
   "cell_type": "code",
   "execution_count": 378,
   "id": "bf935b4c",
   "metadata": {},
   "outputs": [
    {
     "name": "stdout",
     "output_type": "stream",
     "text": [
      "precision= 0.75\n"
     ]
    }
   ],
   "source": [
    "precision=TP/(TP+FP)\n",
    "print(\"precision=\", precision)"
   ]
  },
  {
   "cell_type": "code",
   "execution_count": 379,
   "id": "fae30bd6",
   "metadata": {},
   "outputs": [
    {
     "name": "stdout",
     "output_type": "stream",
     "text": [
      "F1 Score= 0.051724137931034475\n"
     ]
    }
   ],
   "source": [
    "F1_score= 2*precision*sensitivity/(precision+sensitivity)\n",
    "print(\"F1 Score=\", F1_score )"
   ]
  },
  {
   "cell_type": "markdown",
   "id": "7f906c34",
   "metadata": {},
   "source": [
    "# Under Sampling and Over Sampling"
   ]
  },
  {
   "cell_type": "code",
   "execution_count": 320,
   "id": "adb6bd5e",
   "metadata": {},
   "outputs": [],
   "source": [
    "import imblearn\n",
    "from imblearn.under_sampling import RandomUnderSampler\n",
    "from imblearn.over_sampling import RandomOverSampler"
   ]
  },
  {
   "cell_type": "code",
   "execution_count": 323,
   "id": "648f2f3a",
   "metadata": {},
   "outputs": [],
   "source": [
    "#Making a copy\n",
    "\n",
    "SI_data_mod = SI_data.copy(deep=True)"
   ]
  },
  {
   "cell_type": "code",
   "execution_count": 337,
   "id": "bfd92940",
   "metadata": {},
   "outputs": [
    {
     "data": {
      "text/plain": [
       "0    3025\n",
       "1     447\n",
       "Name: TenYearCHD, dtype: int64"
      ]
     },
     "execution_count": 337,
     "metadata": {},
     "output_type": "execute_result"
    }
   ],
   "source": [
    "#Checking data imbalance\n",
    "SI_data_mod.TenYearCHD.value_counts()"
   ]
  },
  {
   "cell_type": "code",
   "execution_count": 339,
   "id": "24d23fc0",
   "metadata": {},
   "outputs": [],
   "source": [
    "# create object of RandomUnderSample with undersample ratio as 158/250\n",
    "\n",
    "rus = RandomUnderSampler(sampling_strategy = (447/500))"
   ]
  },
  {
   "cell_type": "code",
   "execution_count": 340,
   "id": "5a4c0b51",
   "metadata": {},
   "outputs": [],
   "source": [
    "#Divide Predictor Varibles(X) and Target Varible(y)\n",
    "\n",
    "X = SI_data_mod.loc[:,SI_data_mod.columns!='TenYearCHD' ]\n",
    "y = SI_data_mod.loc[:,'TenYearCHD']"
   ]
  },
  {
   "cell_type": "code",
   "execution_count": 341,
   "id": "6eb15800",
   "metadata": {},
   "outputs": [
    {
     "data": {
      "text/plain": [
       "(3472, 15)"
      ]
     },
     "execution_count": 341,
     "metadata": {},
     "output_type": "execute_result"
    }
   ],
   "source": [
    "X.shape"
   ]
  },
  {
   "cell_type": "code",
   "execution_count": 342,
   "id": "cf162e09",
   "metadata": {},
   "outputs": [],
   "source": [
    "X, y = rus.fit_resample(X, y)"
   ]
  },
  {
   "cell_type": "code",
   "execution_count": 343,
   "id": "97c4beac",
   "metadata": {},
   "outputs": [
    {
     "data": {
      "text/plain": [
       "0    500\n",
       "1    447\n",
       "Name: TenYearCHD, dtype: int64"
      ]
     },
     "execution_count": 343,
     "metadata": {},
     "output_type": "execute_result"
    }
   ],
   "source": [
    "y.value_counts()"
   ]
  },
  {
   "cell_type": "code",
   "execution_count": 344,
   "id": "a4bff6b0",
   "metadata": {},
   "outputs": [
    {
     "name": "stdout",
     "output_type": "stream",
     "text": [
      "(947, 15)\n",
      "(947,)\n",
      "0    500\n",
      "1    447\n",
      "Name: TenYearCHD, dtype: int64\n"
     ]
    }
   ],
   "source": [
    "# Check the shape and value counts\n",
    "print(X.shape)\n",
    "print(y.shape)\n",
    "print(y.value_counts())"
   ]
  },
  {
   "cell_type": "code",
   "execution_count": 345,
   "id": "71af0940",
   "metadata": {},
   "outputs": [],
   "source": [
    "# Append and Prepare the final Dataset\n",
    "X['TenYearCHD'] = y\n"
   ]
  },
  {
   "cell_type": "code",
   "execution_count": 346,
   "id": "ad6bc088",
   "metadata": {},
   "outputs": [
    {
     "data": {
      "text/plain": [
       "(947, 16)"
      ]
     },
     "execution_count": 346,
     "metadata": {},
     "output_type": "execute_result"
    }
   ],
   "source": [
    "X.shape"
   ]
  },
  {
   "cell_type": "code",
   "execution_count": 347,
   "id": "a4a735e5",
   "metadata": {},
   "outputs": [
    {
     "data": {
      "text/html": [
       "<div>\n",
       "<style scoped>\n",
       "    .dataframe tbody tr th:only-of-type {\n",
       "        vertical-align: middle;\n",
       "    }\n",
       "\n",
       "    .dataframe tbody tr th {\n",
       "        vertical-align: top;\n",
       "    }\n",
       "\n",
       "    .dataframe thead th {\n",
       "        text-align: right;\n",
       "    }\n",
       "</style>\n",
       "<table border=\"1\" class=\"dataframe\">\n",
       "  <thead>\n",
       "    <tr style=\"text-align: right;\">\n",
       "      <th></th>\n",
       "      <th>male</th>\n",
       "      <th>age</th>\n",
       "      <th>education</th>\n",
       "      <th>currentSmoker</th>\n",
       "      <th>cigsPerDay</th>\n",
       "      <th>BPMeds</th>\n",
       "      <th>prevalentStroke</th>\n",
       "      <th>prevalentHyp</th>\n",
       "      <th>diabetes</th>\n",
       "      <th>totChol</th>\n",
       "      <th>sysBP</th>\n",
       "      <th>diaBP</th>\n",
       "      <th>BMI</th>\n",
       "      <th>heartRate</th>\n",
       "      <th>glucose</th>\n",
       "      <th>TenYearCHD</th>\n",
       "    </tr>\n",
       "  </thead>\n",
       "  <tbody>\n",
       "    <tr>\n",
       "      <th>0</th>\n",
       "      <td>0</td>\n",
       "      <td>55</td>\n",
       "      <td>2.0</td>\n",
       "      <td>1</td>\n",
       "      <td>5.0</td>\n",
       "      <td>0.0</td>\n",
       "      <td>0</td>\n",
       "      <td>0</td>\n",
       "      <td>0</td>\n",
       "      <td>315.0</td>\n",
       "      <td>123.0</td>\n",
       "      <td>77.5</td>\n",
       "      <td>26.21</td>\n",
       "      <td>75.0</td>\n",
       "      <td>84.000000</td>\n",
       "      <td>0</td>\n",
       "    </tr>\n",
       "    <tr>\n",
       "      <th>1</th>\n",
       "      <td>0</td>\n",
       "      <td>51</td>\n",
       "      <td>1.0</td>\n",
       "      <td>0</td>\n",
       "      <td>0.0</td>\n",
       "      <td>0.0</td>\n",
       "      <td>0</td>\n",
       "      <td>0</td>\n",
       "      <td>0</td>\n",
       "      <td>197.0</td>\n",
       "      <td>126.0</td>\n",
       "      <td>86.0</td>\n",
       "      <td>24.16</td>\n",
       "      <td>75.0</td>\n",
       "      <td>81.883169</td>\n",
       "      <td>0</td>\n",
       "    </tr>\n",
       "    <tr>\n",
       "      <th>2</th>\n",
       "      <td>0</td>\n",
       "      <td>48</td>\n",
       "      <td>4.0</td>\n",
       "      <td>1</td>\n",
       "      <td>17.0</td>\n",
       "      <td>0.0</td>\n",
       "      <td>0</td>\n",
       "      <td>0</td>\n",
       "      <td>0</td>\n",
       "      <td>299.0</td>\n",
       "      <td>132.0</td>\n",
       "      <td>81.0</td>\n",
       "      <td>24.35</td>\n",
       "      <td>75.0</td>\n",
       "      <td>70.000000</td>\n",
       "      <td>0</td>\n",
       "    </tr>\n",
       "    <tr>\n",
       "      <th>3</th>\n",
       "      <td>0</td>\n",
       "      <td>36</td>\n",
       "      <td>2.0</td>\n",
       "      <td>1</td>\n",
       "      <td>20.0</td>\n",
       "      <td>0.0</td>\n",
       "      <td>0</td>\n",
       "      <td>0</td>\n",
       "      <td>0</td>\n",
       "      <td>272.0</td>\n",
       "      <td>113.0</td>\n",
       "      <td>66.5</td>\n",
       "      <td>20.69</td>\n",
       "      <td>67.0</td>\n",
       "      <td>59.000000</td>\n",
       "      <td>0</td>\n",
       "    </tr>\n",
       "    <tr>\n",
       "      <th>4</th>\n",
       "      <td>0</td>\n",
       "      <td>62</td>\n",
       "      <td>2.0</td>\n",
       "      <td>1</td>\n",
       "      <td>3.0</td>\n",
       "      <td>0.0</td>\n",
       "      <td>0</td>\n",
       "      <td>0</td>\n",
       "      <td>0</td>\n",
       "      <td>286.0</td>\n",
       "      <td>123.0</td>\n",
       "      <td>77.0</td>\n",
       "      <td>20.56</td>\n",
       "      <td>59.0</td>\n",
       "      <td>86.000000</td>\n",
       "      <td>0</td>\n",
       "    </tr>\n",
       "  </tbody>\n",
       "</table>\n",
       "</div>"
      ],
      "text/plain": [
       "   male  age  education  currentSmoker  cigsPerDay  BPMeds  prevalentStroke  \\\n",
       "0     0   55        2.0              1         5.0     0.0                0   \n",
       "1     0   51        1.0              0         0.0     0.0                0   \n",
       "2     0   48        4.0              1        17.0     0.0                0   \n",
       "3     0   36        2.0              1        20.0     0.0                0   \n",
       "4     0   62        2.0              1         3.0     0.0                0   \n",
       "\n",
       "   prevalentHyp  diabetes  totChol  sysBP  diaBP    BMI  heartRate    glucose  \\\n",
       "0             0         0    315.0  123.0   77.5  26.21       75.0  84.000000   \n",
       "1             0         0    197.0  126.0   86.0  24.16       75.0  81.883169   \n",
       "2             0         0    299.0  132.0   81.0  24.35       75.0  70.000000   \n",
       "3             0         0    272.0  113.0   66.5  20.69       67.0  59.000000   \n",
       "4             0         0    286.0  123.0   77.0  20.56       59.0  86.000000   \n",
       "\n",
       "   TenYearCHD  \n",
       "0           0  \n",
       "1           0  \n",
       "2           0  \n",
       "3           0  \n",
       "4           0  "
      ]
     },
     "execution_count": 347,
     "metadata": {},
     "output_type": "execute_result"
    }
   ],
   "source": [
    "X.head()"
   ]
  },
  {
   "cell_type": "markdown",
   "id": "280a89ad",
   "metadata": {},
   "source": [
    "# Model Building after sampling\n"
   ]
  },
  {
   "cell_type": "code",
   "execution_count": 381,
   "id": "ba13c91d",
   "metadata": {},
   "outputs": [
    {
     "data": {
      "text/plain": [
       "(947, 16)"
      ]
     },
     "execution_count": 381,
     "metadata": {},
     "output_type": "execute_result"
    }
   ],
   "source": [
    "X_data =X.copy(deep=True)\n",
    "X_data.shape"
   ]
  },
  {
   "cell_type": "code",
   "execution_count": 382,
   "id": "d4dca48c",
   "metadata": {},
   "outputs": [],
   "source": [
    "#use only select features\n",
    "\n",
    "predictors=['male','age','prevalentHyp','sysBP','diaBP','cigsPerDay']\n",
    "xdata=X_data[predictors]\n",
    "ydata=X_data['TenYearCHD']"
   ]
  },
  {
   "cell_type": "code",
   "execution_count": 383,
   "id": "61c7b8b3",
   "metadata": {},
   "outputs": [],
   "source": [
    "from sklearn.model_selection import train_test_split\n",
    "X_train, X_test, y_train, y_test = train_test_split(xdata, ydata, random_state=100, test_size=0.25, stratify=ydata)"
   ]
  },
  {
   "cell_type": "code",
   "execution_count": 384,
   "id": "010a5f47",
   "metadata": {},
   "outputs": [],
   "source": [
    "from sklearn.linear_model import LogisticRegression\n",
    "logreg = LogisticRegression()\n",
    "logreg.fit(X_train, y_train)\n",
    "yprediction=logreg.predict(X_test)"
   ]
  },
  {
   "cell_type": "code",
   "execution_count": 385,
   "id": "d4950c19",
   "metadata": {},
   "outputs": [
    {
     "name": "stdout",
     "output_type": "stream",
     "text": [
      "Accuracy= 0.6624472573839663\n"
     ]
    }
   ],
   "source": [
    "\n",
    "print(\"Accuracy=\", accuracy_score( y_test,yprediction))"
   ]
  },
  {
   "cell_type": "code",
   "execution_count": 386,
   "id": "a1625914",
   "metadata": {},
   "outputs": [
    {
     "data": {
      "text/plain": [
       "0    125\n",
       "1    112\n",
       "Name: TenYearCHD, dtype: int64"
      ]
     },
     "execution_count": 386,
     "metadata": {},
     "output_type": "execute_result"
    }
   ],
   "source": [
    "y_test.value_counts()"
   ]
  },
  {
   "cell_type": "code",
   "execution_count": 387,
   "id": "679053b2",
   "metadata": {},
   "outputs": [
    {
     "name": "stdout",
     "output_type": "stream",
     "text": [
      "[[84 41]\n",
      " [39 73]]\n"
     ]
    }
   ],
   "source": [
    "#confusion Matrix\n",
    "# IMPORTANT: first argument is actual values, second argument is predicted values\n",
    "from sklearn import metrics\n",
    "confusionmatrix=metrics.confusion_matrix(y_test,yprediction)\n",
    "print(confusionmatrix)\n",
    "TN=confusionmatrix[0,0]\n",
    "FP=confusionmatrix[0,1]\n",
    "FN=confusionmatrix[1,0]\n",
    "TP=confusionmatrix[1,1]"
   ]
  },
  {
   "cell_type": "code",
   "execution_count": 388,
   "id": "70786010",
   "metadata": {},
   "outputs": [
    {
     "name": "stdout",
     "output_type": "stream",
     "text": [
      "sensitivity= 0.6517857142857143\n",
      "specificity= 0.1111111111111111\n",
      "precision= 0.6403508771929824\n"
     ]
    }
   ],
   "source": [
    "sensitivity=TP/Total_Positive_Cases\n",
    "print(\"sensitivity=\",sensitivity)\n",
    "\n",
    "specificity=TN/Total_Negative_Cases\n",
    "print(\"specificity=\",specificity)\n",
    "\n",
    "precision=TP/(TP+FP)\n",
    "print(\"precision=\", precision)"
   ]
  },
  {
   "cell_type": "code",
   "execution_count": 389,
   "id": "2e147be0",
   "metadata": {},
   "outputs": [
    {
     "name": "stdout",
     "output_type": "stream",
     "text": [
      "F1 Score= 0.6460176991150443\n"
     ]
    }
   ],
   "source": [
    "F1_score= 2*precision*sensitivity/(precision+sensitivity)\n",
    "print(\"F1 Score=\", F1_score )"
   ]
  },
  {
   "cell_type": "code",
   "execution_count": null,
   "id": "0baf8e62",
   "metadata": {},
   "outputs": [],
   "source": []
  },
  {
   "cell_type": "code",
   "execution_count": null,
   "id": "1aa41efb",
   "metadata": {},
   "outputs": [],
   "source": []
  },
  {
   "cell_type": "code",
   "execution_count": null,
   "id": "f32e327a",
   "metadata": {},
   "outputs": [],
   "source": []
  },
  {
   "cell_type": "code",
   "execution_count": null,
   "id": "a38c1c93",
   "metadata": {},
   "outputs": [],
   "source": []
  },
  {
   "cell_type": "code",
   "execution_count": null,
   "id": "1804f0e7",
   "metadata": {},
   "outputs": [],
   "source": []
  },
  {
   "cell_type": "code",
   "execution_count": null,
   "id": "e9a2985d",
   "metadata": {},
   "outputs": [],
   "source": []
  }
 ],
 "metadata": {
  "kernelspec": {
   "display_name": "Python 3 (ipykernel)",
   "language": "python",
   "name": "python3"
  },
  "language_info": {
   "codemirror_mode": {
    "name": "ipython",
    "version": 3
   },
   "file_extension": ".py",
   "mimetype": "text/x-python",
   "name": "python",
   "nbconvert_exporter": "python",
   "pygments_lexer": "ipython3",
   "version": "3.9.12"
  }
 },
 "nbformat": 4,
 "nbformat_minor": 5
}
